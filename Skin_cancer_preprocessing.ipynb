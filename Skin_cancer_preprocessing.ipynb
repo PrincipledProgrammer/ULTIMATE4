{
  "nbformat": 4,
  "nbformat_minor": 0,
  "metadata": {
    "colab": {
      "provenance": [],
      "include_colab_link": true
    },
    "kernelspec": {
      "name": "python3",
      "display_name": "Python 3"
    },
    "language_info": {
      "name": "python"
    }
  },
  "cells": [
    {
      "cell_type": "markdown",
      "metadata": {
        "id": "view-in-github",
        "colab_type": "text"
      },
      "source": [
        "<a href=\"https://colab.research.google.com/github/agarwalsoham993/ULTIMATE4/blob/soham/Skin_cancer_preprocessing.ipynb\" target=\"_parent\"><img src=\"https://colab.research.google.com/assets/colab-badge.svg\" alt=\"Open In Colab\"/></a>"
      ]
    },
    {
      "cell_type": "code",
      "execution_count": 144,
      "metadata": {
        "id": "c1x4F_PdHxqc"
      },
      "outputs": [],
      "source": [
        "import numpy as np\n",
        "import pandas as pd\n",
        "import matplotlib.pyplot as plt\n",
        "import seaborn as sns\n",
        "import warnings\n",
        "warnings.filterwarnings('ignore')"
      ]
    },
    {
      "cell_type": "code",
      "source": [
        "from google.colab import drive\n",
        "drive.mount('/content/drive')"
      ],
      "metadata": {
        "colab": {
          "base_uri": "https://localhost:8080/"
        },
        "id": "7T57n0EUpWPi",
        "outputId": "502606e7-23e3-4c26-f5c9-4dd6cb501ee4"
      },
      "execution_count": 145,
      "outputs": [
        {
          "output_type": "stream",
          "name": "stdout",
          "text": [
            "Drive already mounted at /content/drive; to attempt to forcibly remount, call drive.mount(\"/content/drive\", force_remount=True).\n"
          ]
        }
      ]
    },
    {
      "cell_type": "code",
      "source": [
        "data  = pd.read_csv(\"/content/drive/MyDrive/kdag_intra.csv\")\n",
        "data.head()"
      ],
      "metadata": {
        "id": "kn2Tq-9JIBOF",
        "colab": {
          "base_uri": "https://localhost:8080/",
          "height": 342
        },
        "outputId": "f2514902-e495-406b-833c-9fdceaf7e6f4"
      },
      "execution_count": 146,
      "outputs": [
        {
          "output_type": "execute_result",
          "data": {
            "text/plain": [
              "        isic_id  target  patient_id  age_approx   sex anatom_site_general  \\\n",
              "0  ISIC_0015670       0  IP_1235828        60.0  male     lower extremity   \n",
              "1  ISIC_0015845       0  IP_8170065        60.0  male           head/neck   \n",
              "2  ISIC_0015864       0  IP_6724798        60.0  male     posterior torso   \n",
              "3  ISIC_0015902       0  IP_4111386        65.0  male      anterior torso   \n",
              "4  ISIC_0024200       0  IP_8313778        55.0  male      anterior torso   \n",
              "\n",
              "   clin_size_long_diam_mm          image_type tbp_tile_type   tbp_lv_A  ...  \\\n",
              "0                    3.04  TBP tile: close-up     3D: white  20.244422  ...   \n",
              "1                    1.10  TBP tile: close-up     3D: white  31.712570  ...   \n",
              "2                    3.40  TBP tile: close-up        3D: XP  22.575830  ...   \n",
              "3                    3.22  TBP tile: close-up        3D: XP  14.242329  ...   \n",
              "4                    2.73  TBP tile: close-up     3D: white  24.725520  ...   \n",
              "\n",
              "    lesion_id  iddx_full  iddx_1  iddx_2  iddx_3  iddx_4  iddx_5  \\\n",
              "0         NaN     Benign  Benign     NaN     NaN     NaN     NaN   \n",
              "1  IL_6727506     Benign  Benign     NaN     NaN     NaN     NaN   \n",
              "2         NaN     Benign  Benign     NaN     NaN     NaN     NaN   \n",
              "3         NaN     Benign  Benign     NaN     NaN     NaN     NaN   \n",
              "4         NaN     Benign  Benign     NaN     NaN     NaN     NaN   \n",
              "\n",
              "   mel_mitotic_index  mel_thick_mm  tbp_lv_dnn_lesion_confidence  \n",
              "0                NaN           NaN                     97.517282  \n",
              "1                NaN           NaN                      3.141455  \n",
              "2                NaN           NaN                     99.804040  \n",
              "3                NaN           NaN                     99.989998  \n",
              "4                NaN           NaN                     70.442510  \n",
              "\n",
              "[5 rows x 55 columns]"
            ],
            "text/html": [
              "\n",
              "  <div id=\"df-de2bcd24-28f0-433c-bfdf-76913aa36448\" class=\"colab-df-container\">\n",
              "    <div>\n",
              "<style scoped>\n",
              "    .dataframe tbody tr th:only-of-type {\n",
              "        vertical-align: middle;\n",
              "    }\n",
              "\n",
              "    .dataframe tbody tr th {\n",
              "        vertical-align: top;\n",
              "    }\n",
              "\n",
              "    .dataframe thead th {\n",
              "        text-align: right;\n",
              "    }\n",
              "</style>\n",
              "<table border=\"1\" class=\"dataframe\">\n",
              "  <thead>\n",
              "    <tr style=\"text-align: right;\">\n",
              "      <th></th>\n",
              "      <th>isic_id</th>\n",
              "      <th>target</th>\n",
              "      <th>patient_id</th>\n",
              "      <th>age_approx</th>\n",
              "      <th>sex</th>\n",
              "      <th>anatom_site_general</th>\n",
              "      <th>clin_size_long_diam_mm</th>\n",
              "      <th>image_type</th>\n",
              "      <th>tbp_tile_type</th>\n",
              "      <th>tbp_lv_A</th>\n",
              "      <th>...</th>\n",
              "      <th>lesion_id</th>\n",
              "      <th>iddx_full</th>\n",
              "      <th>iddx_1</th>\n",
              "      <th>iddx_2</th>\n",
              "      <th>iddx_3</th>\n",
              "      <th>iddx_4</th>\n",
              "      <th>iddx_5</th>\n",
              "      <th>mel_mitotic_index</th>\n",
              "      <th>mel_thick_mm</th>\n",
              "      <th>tbp_lv_dnn_lesion_confidence</th>\n",
              "    </tr>\n",
              "  </thead>\n",
              "  <tbody>\n",
              "    <tr>\n",
              "      <th>0</th>\n",
              "      <td>ISIC_0015670</td>\n",
              "      <td>0</td>\n",
              "      <td>IP_1235828</td>\n",
              "      <td>60.0</td>\n",
              "      <td>male</td>\n",
              "      <td>lower extremity</td>\n",
              "      <td>3.04</td>\n",
              "      <td>TBP tile: close-up</td>\n",
              "      <td>3D: white</td>\n",
              "      <td>20.244422</td>\n",
              "      <td>...</td>\n",
              "      <td>NaN</td>\n",
              "      <td>Benign</td>\n",
              "      <td>Benign</td>\n",
              "      <td>NaN</td>\n",
              "      <td>NaN</td>\n",
              "      <td>NaN</td>\n",
              "      <td>NaN</td>\n",
              "      <td>NaN</td>\n",
              "      <td>NaN</td>\n",
              "      <td>97.517282</td>\n",
              "    </tr>\n",
              "    <tr>\n",
              "      <th>1</th>\n",
              "      <td>ISIC_0015845</td>\n",
              "      <td>0</td>\n",
              "      <td>IP_8170065</td>\n",
              "      <td>60.0</td>\n",
              "      <td>male</td>\n",
              "      <td>head/neck</td>\n",
              "      <td>1.10</td>\n",
              "      <td>TBP tile: close-up</td>\n",
              "      <td>3D: white</td>\n",
              "      <td>31.712570</td>\n",
              "      <td>...</td>\n",
              "      <td>IL_6727506</td>\n",
              "      <td>Benign</td>\n",
              "      <td>Benign</td>\n",
              "      <td>NaN</td>\n",
              "      <td>NaN</td>\n",
              "      <td>NaN</td>\n",
              "      <td>NaN</td>\n",
              "      <td>NaN</td>\n",
              "      <td>NaN</td>\n",
              "      <td>3.141455</td>\n",
              "    </tr>\n",
              "    <tr>\n",
              "      <th>2</th>\n",
              "      <td>ISIC_0015864</td>\n",
              "      <td>0</td>\n",
              "      <td>IP_6724798</td>\n",
              "      <td>60.0</td>\n",
              "      <td>male</td>\n",
              "      <td>posterior torso</td>\n",
              "      <td>3.40</td>\n",
              "      <td>TBP tile: close-up</td>\n",
              "      <td>3D: XP</td>\n",
              "      <td>22.575830</td>\n",
              "      <td>...</td>\n",
              "      <td>NaN</td>\n",
              "      <td>Benign</td>\n",
              "      <td>Benign</td>\n",
              "      <td>NaN</td>\n",
              "      <td>NaN</td>\n",
              "      <td>NaN</td>\n",
              "      <td>NaN</td>\n",
              "      <td>NaN</td>\n",
              "      <td>NaN</td>\n",
              "      <td>99.804040</td>\n",
              "    </tr>\n",
              "    <tr>\n",
              "      <th>3</th>\n",
              "      <td>ISIC_0015902</td>\n",
              "      <td>0</td>\n",
              "      <td>IP_4111386</td>\n",
              "      <td>65.0</td>\n",
              "      <td>male</td>\n",
              "      <td>anterior torso</td>\n",
              "      <td>3.22</td>\n",
              "      <td>TBP tile: close-up</td>\n",
              "      <td>3D: XP</td>\n",
              "      <td>14.242329</td>\n",
              "      <td>...</td>\n",
              "      <td>NaN</td>\n",
              "      <td>Benign</td>\n",
              "      <td>Benign</td>\n",
              "      <td>NaN</td>\n",
              "      <td>NaN</td>\n",
              "      <td>NaN</td>\n",
              "      <td>NaN</td>\n",
              "      <td>NaN</td>\n",
              "      <td>NaN</td>\n",
              "      <td>99.989998</td>\n",
              "    </tr>\n",
              "    <tr>\n",
              "      <th>4</th>\n",
              "      <td>ISIC_0024200</td>\n",
              "      <td>0</td>\n",
              "      <td>IP_8313778</td>\n",
              "      <td>55.0</td>\n",
              "      <td>male</td>\n",
              "      <td>anterior torso</td>\n",
              "      <td>2.73</td>\n",
              "      <td>TBP tile: close-up</td>\n",
              "      <td>3D: white</td>\n",
              "      <td>24.725520</td>\n",
              "      <td>...</td>\n",
              "      <td>NaN</td>\n",
              "      <td>Benign</td>\n",
              "      <td>Benign</td>\n",
              "      <td>NaN</td>\n",
              "      <td>NaN</td>\n",
              "      <td>NaN</td>\n",
              "      <td>NaN</td>\n",
              "      <td>NaN</td>\n",
              "      <td>NaN</td>\n",
              "      <td>70.442510</td>\n",
              "    </tr>\n",
              "  </tbody>\n",
              "</table>\n",
              "<p>5 rows × 55 columns</p>\n",
              "</div>\n",
              "    <div class=\"colab-df-buttons\">\n",
              "\n",
              "  <div class=\"colab-df-container\">\n",
              "    <button class=\"colab-df-convert\" onclick=\"convertToInteractive('df-de2bcd24-28f0-433c-bfdf-76913aa36448')\"\n",
              "            title=\"Convert this dataframe to an interactive table.\"\n",
              "            style=\"display:none;\">\n",
              "\n",
              "  <svg xmlns=\"http://www.w3.org/2000/svg\" height=\"24px\" viewBox=\"0 -960 960 960\">\n",
              "    <path d=\"M120-120v-720h720v720H120Zm60-500h600v-160H180v160Zm220 220h160v-160H400v160Zm0 220h160v-160H400v160ZM180-400h160v-160H180v160Zm440 0h160v-160H620v160ZM180-180h160v-160H180v160Zm440 0h160v-160H620v160Z\"/>\n",
              "  </svg>\n",
              "    </button>\n",
              "\n",
              "  <style>\n",
              "    .colab-df-container {\n",
              "      display:flex;\n",
              "      gap: 12px;\n",
              "    }\n",
              "\n",
              "    .colab-df-convert {\n",
              "      background-color: #E8F0FE;\n",
              "      border: none;\n",
              "      border-radius: 50%;\n",
              "      cursor: pointer;\n",
              "      display: none;\n",
              "      fill: #1967D2;\n",
              "      height: 32px;\n",
              "      padding: 0 0 0 0;\n",
              "      width: 32px;\n",
              "    }\n",
              "\n",
              "    .colab-df-convert:hover {\n",
              "      background-color: #E2EBFA;\n",
              "      box-shadow: 0px 1px 2px rgba(60, 64, 67, 0.3), 0px 1px 3px 1px rgba(60, 64, 67, 0.15);\n",
              "      fill: #174EA6;\n",
              "    }\n",
              "\n",
              "    .colab-df-buttons div {\n",
              "      margin-bottom: 4px;\n",
              "    }\n",
              "\n",
              "    [theme=dark] .colab-df-convert {\n",
              "      background-color: #3B4455;\n",
              "      fill: #D2E3FC;\n",
              "    }\n",
              "\n",
              "    [theme=dark] .colab-df-convert:hover {\n",
              "      background-color: #434B5C;\n",
              "      box-shadow: 0px 1px 3px 1px rgba(0, 0, 0, 0.15);\n",
              "      filter: drop-shadow(0px 1px 2px rgba(0, 0, 0, 0.3));\n",
              "      fill: #FFFFFF;\n",
              "    }\n",
              "  </style>\n",
              "\n",
              "    <script>\n",
              "      const buttonEl =\n",
              "        document.querySelector('#df-de2bcd24-28f0-433c-bfdf-76913aa36448 button.colab-df-convert');\n",
              "      buttonEl.style.display =\n",
              "        google.colab.kernel.accessAllowed ? 'block' : 'none';\n",
              "\n",
              "      async function convertToInteractive(key) {\n",
              "        const element = document.querySelector('#df-de2bcd24-28f0-433c-bfdf-76913aa36448');\n",
              "        const dataTable =\n",
              "          await google.colab.kernel.invokeFunction('convertToInteractive',\n",
              "                                                    [key], {});\n",
              "        if (!dataTable) return;\n",
              "\n",
              "        const docLinkHtml = 'Like what you see? Visit the ' +\n",
              "          '<a target=\"_blank\" href=https://colab.research.google.com/notebooks/data_table.ipynb>data table notebook</a>'\n",
              "          + ' to learn more about interactive tables.';\n",
              "        element.innerHTML = '';\n",
              "        dataTable['output_type'] = 'display_data';\n",
              "        await google.colab.output.renderOutput(dataTable, element);\n",
              "        const docLink = document.createElement('div');\n",
              "        docLink.innerHTML = docLinkHtml;\n",
              "        element.appendChild(docLink);\n",
              "      }\n",
              "    </script>\n",
              "  </div>\n",
              "\n",
              "\n",
              "    <div id=\"df-d54b1d04-fc43-4ca9-8191-0c8bc2f96c6e\">\n",
              "      <button class=\"colab-df-quickchart\" onclick=\"quickchart('df-d54b1d04-fc43-4ca9-8191-0c8bc2f96c6e')\"\n",
              "                title=\"Suggest charts\"\n",
              "                style=\"display:none;\">\n",
              "\n",
              "<svg xmlns=\"http://www.w3.org/2000/svg\" height=\"24px\"viewBox=\"0 0 24 24\"\n",
              "     width=\"24px\">\n",
              "    <g>\n",
              "        <path d=\"M19 3H5c-1.1 0-2 .9-2 2v14c0 1.1.9 2 2 2h14c1.1 0 2-.9 2-2V5c0-1.1-.9-2-2-2zM9 17H7v-7h2v7zm4 0h-2V7h2v10zm4 0h-2v-4h2v4z\"/>\n",
              "    </g>\n",
              "</svg>\n",
              "      </button>\n",
              "\n",
              "<style>\n",
              "  .colab-df-quickchart {\n",
              "      --bg-color: #E8F0FE;\n",
              "      --fill-color: #1967D2;\n",
              "      --hover-bg-color: #E2EBFA;\n",
              "      --hover-fill-color: #174EA6;\n",
              "      --disabled-fill-color: #AAA;\n",
              "      --disabled-bg-color: #DDD;\n",
              "  }\n",
              "\n",
              "  [theme=dark] .colab-df-quickchart {\n",
              "      --bg-color: #3B4455;\n",
              "      --fill-color: #D2E3FC;\n",
              "      --hover-bg-color: #434B5C;\n",
              "      --hover-fill-color: #FFFFFF;\n",
              "      --disabled-bg-color: #3B4455;\n",
              "      --disabled-fill-color: #666;\n",
              "  }\n",
              "\n",
              "  .colab-df-quickchart {\n",
              "    background-color: var(--bg-color);\n",
              "    border: none;\n",
              "    border-radius: 50%;\n",
              "    cursor: pointer;\n",
              "    display: none;\n",
              "    fill: var(--fill-color);\n",
              "    height: 32px;\n",
              "    padding: 0;\n",
              "    width: 32px;\n",
              "  }\n",
              "\n",
              "  .colab-df-quickchart:hover {\n",
              "    background-color: var(--hover-bg-color);\n",
              "    box-shadow: 0 1px 2px rgba(60, 64, 67, 0.3), 0 1px 3px 1px rgba(60, 64, 67, 0.15);\n",
              "    fill: var(--button-hover-fill-color);\n",
              "  }\n",
              "\n",
              "  .colab-df-quickchart-complete:disabled,\n",
              "  .colab-df-quickchart-complete:disabled:hover {\n",
              "    background-color: var(--disabled-bg-color);\n",
              "    fill: var(--disabled-fill-color);\n",
              "    box-shadow: none;\n",
              "  }\n",
              "\n",
              "  .colab-df-spinner {\n",
              "    border: 2px solid var(--fill-color);\n",
              "    border-color: transparent;\n",
              "    border-bottom-color: var(--fill-color);\n",
              "    animation:\n",
              "      spin 1s steps(1) infinite;\n",
              "  }\n",
              "\n",
              "  @keyframes spin {\n",
              "    0% {\n",
              "      border-color: transparent;\n",
              "      border-bottom-color: var(--fill-color);\n",
              "      border-left-color: var(--fill-color);\n",
              "    }\n",
              "    20% {\n",
              "      border-color: transparent;\n",
              "      border-left-color: var(--fill-color);\n",
              "      border-top-color: var(--fill-color);\n",
              "    }\n",
              "    30% {\n",
              "      border-color: transparent;\n",
              "      border-left-color: var(--fill-color);\n",
              "      border-top-color: var(--fill-color);\n",
              "      border-right-color: var(--fill-color);\n",
              "    }\n",
              "    40% {\n",
              "      border-color: transparent;\n",
              "      border-right-color: var(--fill-color);\n",
              "      border-top-color: var(--fill-color);\n",
              "    }\n",
              "    60% {\n",
              "      border-color: transparent;\n",
              "      border-right-color: var(--fill-color);\n",
              "    }\n",
              "    80% {\n",
              "      border-color: transparent;\n",
              "      border-right-color: var(--fill-color);\n",
              "      border-bottom-color: var(--fill-color);\n",
              "    }\n",
              "    90% {\n",
              "      border-color: transparent;\n",
              "      border-bottom-color: var(--fill-color);\n",
              "    }\n",
              "  }\n",
              "</style>\n",
              "\n",
              "      <script>\n",
              "        async function quickchart(key) {\n",
              "          const quickchartButtonEl =\n",
              "            document.querySelector('#' + key + ' button');\n",
              "          quickchartButtonEl.disabled = true;  // To prevent multiple clicks.\n",
              "          quickchartButtonEl.classList.add('colab-df-spinner');\n",
              "          try {\n",
              "            const charts = await google.colab.kernel.invokeFunction(\n",
              "                'suggestCharts', [key], {});\n",
              "          } catch (error) {\n",
              "            console.error('Error during call to suggestCharts:', error);\n",
              "          }\n",
              "          quickchartButtonEl.classList.remove('colab-df-spinner');\n",
              "          quickchartButtonEl.classList.add('colab-df-quickchart-complete');\n",
              "        }\n",
              "        (() => {\n",
              "          let quickchartButtonEl =\n",
              "            document.querySelector('#df-d54b1d04-fc43-4ca9-8191-0c8bc2f96c6e button');\n",
              "          quickchartButtonEl.style.display =\n",
              "            google.colab.kernel.accessAllowed ? 'block' : 'none';\n",
              "        })();\n",
              "      </script>\n",
              "    </div>\n",
              "\n",
              "    </div>\n",
              "  </div>\n"
            ],
            "application/vnd.google.colaboratory.intrinsic+json": {
              "type": "dataframe",
              "variable_name": "data"
            }
          },
          "metadata": {},
          "execution_count": 146
        }
      ]
    },
    {
      "cell_type": "code",
      "source": [
        "data.columns"
      ],
      "metadata": {
        "colab": {
          "base_uri": "https://localhost:8080/"
        },
        "id": "v7EHPkoyIb8i",
        "outputId": "b03cfa58-7819-4fc1-f706-45287bb8b544"
      },
      "execution_count": 147,
      "outputs": [
        {
          "output_type": "execute_result",
          "data": {
            "text/plain": [
              "Index(['isic_id', 'target', 'patient_id', 'age_approx', 'sex',\n",
              "       'anatom_site_general', 'clin_size_long_diam_mm', 'image_type',\n",
              "       'tbp_tile_type', 'tbp_lv_A', 'tbp_lv_Aext', 'tbp_lv_B', 'tbp_lv_Bext',\n",
              "       'tbp_lv_C', 'tbp_lv_Cext', 'tbp_lv_H', 'tbp_lv_Hext', 'tbp_lv_L',\n",
              "       'tbp_lv_Lext', 'tbp_lv_areaMM2', 'tbp_lv_area_perim_ratio',\n",
              "       'tbp_lv_color_std_mean', 'tbp_lv_deltaA', 'tbp_lv_deltaB',\n",
              "       'tbp_lv_deltaL', 'tbp_lv_deltaLB', 'tbp_lv_deltaLBnorm',\n",
              "       'tbp_lv_eccentricity', 'tbp_lv_location', 'tbp_lv_location_simple',\n",
              "       'tbp_lv_minorAxisMM', 'tbp_lv_nevi_confidence', 'tbp_lv_norm_border',\n",
              "       'tbp_lv_norm_color', 'tbp_lv_perimeterMM',\n",
              "       'tbp_lv_radial_color_std_max', 'tbp_lv_stdL', 'tbp_lv_stdLExt',\n",
              "       'tbp_lv_symm_2axis', 'tbp_lv_symm_2axis_angle', 'tbp_lv_x', 'tbp_lv_y',\n",
              "       'tbp_lv_z', 'attribution', 'copyright_license', 'lesion_id',\n",
              "       'iddx_full', 'iddx_1', 'iddx_2', 'iddx_3', 'iddx_4', 'iddx_5',\n",
              "       'mel_mitotic_index', 'mel_thick_mm', 'tbp_lv_dnn_lesion_confidence'],\n",
              "      dtype='object')"
            ]
          },
          "metadata": {},
          "execution_count": 147
        }
      ]
    },
    {
      "cell_type": "markdown",
      "source": [
        "# metadata categorization"
      ],
      "metadata": {
        "id": "4WKmfza1Jyrn"
      }
    },
    {
      "cell_type": "code",
      "source": [
        "target = ['target','iddx_full', 'iddx_1', 'iddx_2', 'iddx_3', 'iddx_4', 'iddx_5','mel_mitotic_index','mel_thick_mm']\n",
        "patient = ['age_approx','sex']\n",
        "tbp_basic = ['isic_id','tbp_lv_areaMM2', 'tbp_lv_area_perim_ratio',\n",
        "                  'tbp_lv_perimeterMM','tbp_lv_color_std_mean','tbp_lv_radial_color_std_max',\n",
        "                  'clin_size_long_diam_mm','tbp_lv_norm_border','tbp_lv_norm_color']\n",
        "tbp_extra =['tbp_lv_A', 'tbp_lv_Aext', 'tbp_lv_B', 'tbp_lv_Bext',\n",
        "            'tbp_lv_C', 'tbp_lv_Cext', 'tbp_lv_H', 'tbp_lv_Hext', 'tbp_lv_L',\n",
        "            'tbp_lv_Lext', 'tbp_lv_deltaA', 'tbp_lv_deltaB','tbp_lv_deltaL',\n",
        "            'tbp_lv_deltaLB', 'tbp_lv_deltaLBnorm','tbp_lv_eccentricity',\n",
        "            'tbp_lv_minorAxisMM','tbp_lv_stdL', 'tbp_lv_stdLExt',\n",
        "            'tbp_lv_symm_2axis','tbp_lv_symm_2axis_angle','tbp_lv_x', 'tbp_lv_y','tbp_lv_z']\n",
        "to_keep = [\"target\"]+patient+tbp_basic+tbp_extra"
      ],
      "metadata": {
        "id": "WbG4zj8SIhzR"
      },
      "execution_count": 148,
      "outputs": []
    },
    {
      "cell_type": "markdown",
      "source": [
        "## target encoding"
      ],
      "metadata": {
        "id": "neqtFBPHmGby"
      }
    },
    {
      "cell_type": "code",
      "source": [
        "from sklearn.preprocessing import OneHotEncoder\n",
        "\n",
        "target_data = data[[\"target\",\"isic_id\"]]\n",
        "\n",
        "ohe = OneHotEncoder()\n",
        "iddx_full = pd.DataFrame(ohe.fit_transform(data[[\"iddx_full\"]]).astype(int).toarray())\n",
        "iddx_full.columns = ohe.get_feature_names_out()\n",
        "\n",
        "target_data = pd.concat([target_data,iddx_full],axis=1)"
      ],
      "metadata": {
        "id": "6DBbAZ9jZOiM"
      },
      "execution_count": 149,
      "outputs": []
    },
    {
      "cell_type": "code",
      "source": [
        "target_data.to_csv(\"/content/drive/MyDrive/KDAG/kdag intras/target_data.csv\",index=False)"
      ],
      "metadata": {
        "id": "ViRKcO4-rH-B"
      },
      "execution_count": 150,
      "outputs": []
    },
    {
      "cell_type": "code",
      "source": [
        "pd.read_csv(\"/content/drive/MyDrive/KDAG/kdag intras/target_data.csv\")"
      ],
      "metadata": {
        "colab": {
          "base_uri": "https://localhost:8080/",
          "height": 548
        },
        "id": "b9IoosLzrUmN",
        "outputId": "2c5a7d98-6c6e-423c-b751-97df9f83ba9e"
      },
      "execution_count": 151,
      "outputs": [
        {
          "output_type": "execute_result",
          "data": {
            "text/plain": [
              "        target       isic_id  iddx_full_Benign  \\\n",
              "0            0  ISIC_0015670                 1   \n",
              "1            0  ISIC_0015845                 1   \n",
              "2            0  ISIC_0015864                 1   \n",
              "3            0  ISIC_0015902                 1   \n",
              "4            0  ISIC_0024200                 1   \n",
              "...        ...           ...               ...   \n",
              "401054       0  ISIC_9999937                 1   \n",
              "401055       0  ISIC_9999951                 1   \n",
              "401056       0  ISIC_9999960                 1   \n",
              "401057       0  ISIC_9999964                 1   \n",
              "401058       0  ISIC_9999967                 1   \n",
              "\n",
              "        iddx_full_Benign::Benign adnexal epithelial proliferations - Apocrine or Eccrine::Hidradenoma  \\\n",
              "0                                                       0                                               \n",
              "1                                                       0                                               \n",
              "2                                                       0                                               \n",
              "3                                                       0                                               \n",
              "4                                                       0                                               \n",
              "...                                                   ...                                               \n",
              "401054                                                  0                                               \n",
              "401055                                                  0                                               \n",
              "401056                                                  0                                               \n",
              "401057                                                  0                                               \n",
              "401058                                                  0                                               \n",
              "\n",
              "        iddx_full_Benign::Benign adnexal epithelial proliferations - Follicular  \\\n",
              "0                                                       0                         \n",
              "1                                                       0                         \n",
              "2                                                       0                         \n",
              "3                                                       0                         \n",
              "4                                                       0                         \n",
              "...                                                   ...                         \n",
              "401054                                                  0                         \n",
              "401055                                                  0                         \n",
              "401056                                                  0                         \n",
              "401057                                                  0                         \n",
              "401058                                                  0                         \n",
              "\n",
              "        iddx_full_Benign::Benign epidermal proliferations::Lichen planus like keratosis  \\\n",
              "0                                                       0                                 \n",
              "1                                                       0                                 \n",
              "2                                                       0                                 \n",
              "3                                                       0                                 \n",
              "4                                                       0                                 \n",
              "...                                                   ...                                 \n",
              "401054                                                  0                                 \n",
              "401055                                                  0                                 \n",
              "401056                                                  0                                 \n",
              "401057                                                  0                                 \n",
              "401058                                                  0                                 \n",
              "\n",
              "        iddx_full_Benign::Benign epidermal proliferations::Pigmented benign keratosis  \\\n",
              "0                                                       0                               \n",
              "1                                                       0                               \n",
              "2                                                       0                               \n",
              "3                                                       0                               \n",
              "4                                                       0                               \n",
              "...                                                   ...                               \n",
              "401054                                                  0                               \n",
              "401055                                                  0                               \n",
              "401056                                                  0                               \n",
              "401057                                                  0                               \n",
              "401058                                                  0                               \n",
              "\n",
              "        iddx_full_Benign::Benign epidermal proliferations::Seborrheic keratosis  \\\n",
              "0                                                       0                         \n",
              "1                                                       0                         \n",
              "2                                                       0                         \n",
              "3                                                       0                         \n",
              "4                                                       0                         \n",
              "...                                                   ...                         \n",
              "401054                                                  0                         \n",
              "401055                                                  0                         \n",
              "401056                                                  0                         \n",
              "401057                                                  0                         \n",
              "401058                                                  0                         \n",
              "\n",
              "        iddx_full_Benign::Benign epidermal proliferations::Seborrheic keratosis::Seborrheic keratosis, Clonal  \\\n",
              "0                                                       0                                                       \n",
              "1                                                       0                                                       \n",
              "2                                                       0                                                       \n",
              "3                                                       0                                                       \n",
              "4                                                       0                                                       \n",
              "...                                                   ...                                                       \n",
              "401054                                                  0                                                       \n",
              "401055                                                  0                                                       \n",
              "401056                                                  0                                                       \n",
              "401057                                                  0                                                       \n",
              "401058                                                  0                                                       \n",
              "\n",
              "        iddx_full_Benign::Benign epidermal proliferations::Solar lentigo  ...  \\\n",
              "0                                                       0                 ...   \n",
              "1                                                       0                 ...   \n",
              "2                                                       0                 ...   \n",
              "3                                                       0                 ...   \n",
              "4                                                       0                 ...   \n",
              "...                                                   ...                 ...   \n",
              "401054                                                  0                 ...   \n",
              "401055                                                  0                 ...   \n",
              "401056                                                  0                 ...   \n",
              "401057                                                  0                 ...   \n",
              "401058                                                  0                 ...   \n",
              "\n",
              "        iddx_full_Malignant::Malignant melanocytic proliferations (Melanoma)::Melanoma Invasive::Melanoma Invasive, Associated with a nevus  \\\n",
              "0                                                       0                                                                                     \n",
              "1                                                       0                                                                                     \n",
              "2                                                       0                                                                                     \n",
              "3                                                       0                                                                                     \n",
              "4                                                       0                                                                                     \n",
              "...                                                   ...                                                                                     \n",
              "401054                                                  0                                                                                     \n",
              "401055                                                  0                                                                                     \n",
              "401056                                                  0                                                                                     \n",
              "401057                                                  0                                                                                     \n",
              "401058                                                  0                                                                                     \n",
              "\n",
              "        iddx_full_Malignant::Malignant melanocytic proliferations (Melanoma)::Melanoma Invasive::Melanoma Invasive, Nodular  \\\n",
              "0                                                       0                                                                     \n",
              "1                                                       0                                                                     \n",
              "2                                                       0                                                                     \n",
              "3                                                       0                                                                     \n",
              "4                                                       0                                                                     \n",
              "...                                                   ...                                                                     \n",
              "401054                                                  0                                                                     \n",
              "401055                                                  0                                                                     \n",
              "401056                                                  0                                                                     \n",
              "401057                                                  0                                                                     \n",
              "401058                                                  0                                                                     \n",
              "\n",
              "        iddx_full_Malignant::Malignant melanocytic proliferations (Melanoma)::Melanoma Invasive::Melanoma Invasive, On chronically sun-exposed skin or lentigo maligna melanoma  \\\n",
              "0                                                       0                                                                                                                         \n",
              "1                                                       0                                                                                                                         \n",
              "2                                                       0                                                                                                                         \n",
              "3                                                       0                                                                                                                         \n",
              "4                                                       0                                                                                                                         \n",
              "...                                                   ...                                                                                                                         \n",
              "401054                                                  0                                                                                                                         \n",
              "401055                                                  0                                                                                                                         \n",
              "401056                                                  0                                                                                                                         \n",
              "401057                                                  0                                                                                                                         \n",
              "401058                                                  0                                                                                                                         \n",
              "\n",
              "        iddx_full_Malignant::Malignant melanocytic proliferations (Melanoma)::Melanoma Invasive::Melanoma Invasive, Superficial spreading  \\\n",
              "0                                                       0                                                                                   \n",
              "1                                                       0                                                                                   \n",
              "2                                                       0                                                                                   \n",
              "3                                                       0                                                                                   \n",
              "4                                                       0                                                                                   \n",
              "...                                                   ...                                                                                   \n",
              "401054                                                  0                                                                                   \n",
              "401055                                                  0                                                                                   \n",
              "401056                                                  0                                                                                   \n",
              "401057                                                  0                                                                                   \n",
              "401058                                                  0                                                                                   \n",
              "\n",
              "        iddx_full_Malignant::Malignant melanocytic proliferations (Melanoma)::Melanoma in situ  \\\n",
              "0                                                       0                                        \n",
              "1                                                       0                                        \n",
              "2                                                       0                                        \n",
              "3                                                       0                                        \n",
              "4                                                       0                                        \n",
              "...                                                   ...                                        \n",
              "401054                                                  0                                        \n",
              "401055                                                  0                                        \n",
              "401056                                                  0                                        \n",
              "401057                                                  0                                        \n",
              "401058                                                  0                                        \n",
              "\n",
              "        iddx_full_Malignant::Malignant melanocytic proliferations (Melanoma)::Melanoma in situ::Melanoma in situ, Lentigo maligna type  \\\n",
              "0                                                       0                                                                                \n",
              "1                                                       0                                                                                \n",
              "2                                                       0                                                                                \n",
              "3                                                       0                                                                                \n",
              "4                                                       0                                                                                \n",
              "...                                                   ...                                                                                \n",
              "401054                                                  0                                                                                \n",
              "401055                                                  0                                                                                \n",
              "401056                                                  0                                                                                \n",
              "401057                                                  0                                                                                \n",
              "401058                                                  0                                                                                \n",
              "\n",
              "        iddx_full_Malignant::Malignant melanocytic proliferations (Melanoma)::Melanoma in situ::Melanoma in situ, Superficial spreading  \\\n",
              "0                                                       0                                                                                 \n",
              "1                                                       0                                                                                 \n",
              "2                                                       0                                                                                 \n",
              "3                                                       0                                                                                 \n",
              "4                                                       0                                                                                 \n",
              "...                                                   ...                                                                                 \n",
              "401054                                                  0                                                                                 \n",
              "401055                                                  0                                                                                 \n",
              "401056                                                  0                                                                                 \n",
              "401057                                                  0                                                                                 \n",
              "401058                                                  0                                                                                 \n",
              "\n",
              "        iddx_full_Malignant::Malignant melanocytic proliferations (Melanoma)::Melanoma in situ::Melanoma in situ, associated with a nevus  \\\n",
              "0                                                       0                                                                                   \n",
              "1                                                       0                                                                                   \n",
              "2                                                       0                                                                                   \n",
              "3                                                       0                                                                                   \n",
              "4                                                       0                                                                                   \n",
              "...                                                   ...                                                                                   \n",
              "401054                                                  0                                                                                   \n",
              "401055                                                  0                                                                                   \n",
              "401056                                                  0                                                                                   \n",
              "401057                                                  0                                                                                   \n",
              "401058                                                  0                                                                                   \n",
              "\n",
              "        iddx_full_Malignant::Malignant melanocytic proliferations (Melanoma)::Melanoma metastasis  \\\n",
              "0                                                       0                                           \n",
              "1                                                       0                                           \n",
              "2                                                       0                                           \n",
              "3                                                       0                                           \n",
              "4                                                       0                                           \n",
              "...                                                   ...                                           \n",
              "401054                                                  0                                           \n",
              "401055                                                  0                                           \n",
              "401056                                                  0                                           \n",
              "401057                                                  0                                           \n",
              "401058                                                  0                                           \n",
              "\n",
              "        iddx_full_Malignant::Malignant melanocytic proliferations (Melanoma)::Melanoma, NOS  \n",
              "0                                                       0                                    \n",
              "1                                                       0                                    \n",
              "2                                                       0                                    \n",
              "3                                                       0                                    \n",
              "4                                                       0                                    \n",
              "...                                                   ...                                    \n",
              "401054                                                  0                                    \n",
              "401055                                                  0                                    \n",
              "401056                                                  0                                    \n",
              "401057                                                  0                                    \n",
              "401058                                                  0                                    \n",
              "\n",
              "[401059 rows x 54 columns]"
            ],
            "text/html": [
              "\n",
              "  <div id=\"df-96a4df98-4069-4938-9411-c3091bd49a9e\" class=\"colab-df-container\">\n",
              "    <div>\n",
              "<style scoped>\n",
              "    .dataframe tbody tr th:only-of-type {\n",
              "        vertical-align: middle;\n",
              "    }\n",
              "\n",
              "    .dataframe tbody tr th {\n",
              "        vertical-align: top;\n",
              "    }\n",
              "\n",
              "    .dataframe thead th {\n",
              "        text-align: right;\n",
              "    }\n",
              "</style>\n",
              "<table border=\"1\" class=\"dataframe\">\n",
              "  <thead>\n",
              "    <tr style=\"text-align: right;\">\n",
              "      <th></th>\n",
              "      <th>target</th>\n",
              "      <th>isic_id</th>\n",
              "      <th>iddx_full_Benign</th>\n",
              "      <th>iddx_full_Benign::Benign adnexal epithelial proliferations - Apocrine or Eccrine::Hidradenoma</th>\n",
              "      <th>iddx_full_Benign::Benign adnexal epithelial proliferations - Follicular</th>\n",
              "      <th>iddx_full_Benign::Benign epidermal proliferations::Lichen planus like keratosis</th>\n",
              "      <th>iddx_full_Benign::Benign epidermal proliferations::Pigmented benign keratosis</th>\n",
              "      <th>iddx_full_Benign::Benign epidermal proliferations::Seborrheic keratosis</th>\n",
              "      <th>iddx_full_Benign::Benign epidermal proliferations::Seborrheic keratosis::Seborrheic keratosis, Clonal</th>\n",
              "      <th>iddx_full_Benign::Benign epidermal proliferations::Solar lentigo</th>\n",
              "      <th>...</th>\n",
              "      <th>iddx_full_Malignant::Malignant melanocytic proliferations (Melanoma)::Melanoma Invasive::Melanoma Invasive, Associated with a nevus</th>\n",
              "      <th>iddx_full_Malignant::Malignant melanocytic proliferations (Melanoma)::Melanoma Invasive::Melanoma Invasive, Nodular</th>\n",
              "      <th>iddx_full_Malignant::Malignant melanocytic proliferations (Melanoma)::Melanoma Invasive::Melanoma Invasive, On chronically sun-exposed skin or lentigo maligna melanoma</th>\n",
              "      <th>iddx_full_Malignant::Malignant melanocytic proliferations (Melanoma)::Melanoma Invasive::Melanoma Invasive, Superficial spreading</th>\n",
              "      <th>iddx_full_Malignant::Malignant melanocytic proliferations (Melanoma)::Melanoma in situ</th>\n",
              "      <th>iddx_full_Malignant::Malignant melanocytic proliferations (Melanoma)::Melanoma in situ::Melanoma in situ, Lentigo maligna type</th>\n",
              "      <th>iddx_full_Malignant::Malignant melanocytic proliferations (Melanoma)::Melanoma in situ::Melanoma in situ, Superficial spreading</th>\n",
              "      <th>iddx_full_Malignant::Malignant melanocytic proliferations (Melanoma)::Melanoma in situ::Melanoma in situ, associated with a nevus</th>\n",
              "      <th>iddx_full_Malignant::Malignant melanocytic proliferations (Melanoma)::Melanoma metastasis</th>\n",
              "      <th>iddx_full_Malignant::Malignant melanocytic proliferations (Melanoma)::Melanoma, NOS</th>\n",
              "    </tr>\n",
              "  </thead>\n",
              "  <tbody>\n",
              "    <tr>\n",
              "      <th>0</th>\n",
              "      <td>0</td>\n",
              "      <td>ISIC_0015670</td>\n",
              "      <td>1</td>\n",
              "      <td>0</td>\n",
              "      <td>0</td>\n",
              "      <td>0</td>\n",
              "      <td>0</td>\n",
              "      <td>0</td>\n",
              "      <td>0</td>\n",
              "      <td>0</td>\n",
              "      <td>...</td>\n",
              "      <td>0</td>\n",
              "      <td>0</td>\n",
              "      <td>0</td>\n",
              "      <td>0</td>\n",
              "      <td>0</td>\n",
              "      <td>0</td>\n",
              "      <td>0</td>\n",
              "      <td>0</td>\n",
              "      <td>0</td>\n",
              "      <td>0</td>\n",
              "    </tr>\n",
              "    <tr>\n",
              "      <th>1</th>\n",
              "      <td>0</td>\n",
              "      <td>ISIC_0015845</td>\n",
              "      <td>1</td>\n",
              "      <td>0</td>\n",
              "      <td>0</td>\n",
              "      <td>0</td>\n",
              "      <td>0</td>\n",
              "      <td>0</td>\n",
              "      <td>0</td>\n",
              "      <td>0</td>\n",
              "      <td>...</td>\n",
              "      <td>0</td>\n",
              "      <td>0</td>\n",
              "      <td>0</td>\n",
              "      <td>0</td>\n",
              "      <td>0</td>\n",
              "      <td>0</td>\n",
              "      <td>0</td>\n",
              "      <td>0</td>\n",
              "      <td>0</td>\n",
              "      <td>0</td>\n",
              "    </tr>\n",
              "    <tr>\n",
              "      <th>2</th>\n",
              "      <td>0</td>\n",
              "      <td>ISIC_0015864</td>\n",
              "      <td>1</td>\n",
              "      <td>0</td>\n",
              "      <td>0</td>\n",
              "      <td>0</td>\n",
              "      <td>0</td>\n",
              "      <td>0</td>\n",
              "      <td>0</td>\n",
              "      <td>0</td>\n",
              "      <td>...</td>\n",
              "      <td>0</td>\n",
              "      <td>0</td>\n",
              "      <td>0</td>\n",
              "      <td>0</td>\n",
              "      <td>0</td>\n",
              "      <td>0</td>\n",
              "      <td>0</td>\n",
              "      <td>0</td>\n",
              "      <td>0</td>\n",
              "      <td>0</td>\n",
              "    </tr>\n",
              "    <tr>\n",
              "      <th>3</th>\n",
              "      <td>0</td>\n",
              "      <td>ISIC_0015902</td>\n",
              "      <td>1</td>\n",
              "      <td>0</td>\n",
              "      <td>0</td>\n",
              "      <td>0</td>\n",
              "      <td>0</td>\n",
              "      <td>0</td>\n",
              "      <td>0</td>\n",
              "      <td>0</td>\n",
              "      <td>...</td>\n",
              "      <td>0</td>\n",
              "      <td>0</td>\n",
              "      <td>0</td>\n",
              "      <td>0</td>\n",
              "      <td>0</td>\n",
              "      <td>0</td>\n",
              "      <td>0</td>\n",
              "      <td>0</td>\n",
              "      <td>0</td>\n",
              "      <td>0</td>\n",
              "    </tr>\n",
              "    <tr>\n",
              "      <th>4</th>\n",
              "      <td>0</td>\n",
              "      <td>ISIC_0024200</td>\n",
              "      <td>1</td>\n",
              "      <td>0</td>\n",
              "      <td>0</td>\n",
              "      <td>0</td>\n",
              "      <td>0</td>\n",
              "      <td>0</td>\n",
              "      <td>0</td>\n",
              "      <td>0</td>\n",
              "      <td>...</td>\n",
              "      <td>0</td>\n",
              "      <td>0</td>\n",
              "      <td>0</td>\n",
              "      <td>0</td>\n",
              "      <td>0</td>\n",
              "      <td>0</td>\n",
              "      <td>0</td>\n",
              "      <td>0</td>\n",
              "      <td>0</td>\n",
              "      <td>0</td>\n",
              "    </tr>\n",
              "    <tr>\n",
              "      <th>...</th>\n",
              "      <td>...</td>\n",
              "      <td>...</td>\n",
              "      <td>...</td>\n",
              "      <td>...</td>\n",
              "      <td>...</td>\n",
              "      <td>...</td>\n",
              "      <td>...</td>\n",
              "      <td>...</td>\n",
              "      <td>...</td>\n",
              "      <td>...</td>\n",
              "      <td>...</td>\n",
              "      <td>...</td>\n",
              "      <td>...</td>\n",
              "      <td>...</td>\n",
              "      <td>...</td>\n",
              "      <td>...</td>\n",
              "      <td>...</td>\n",
              "      <td>...</td>\n",
              "      <td>...</td>\n",
              "      <td>...</td>\n",
              "      <td>...</td>\n",
              "    </tr>\n",
              "    <tr>\n",
              "      <th>401054</th>\n",
              "      <td>0</td>\n",
              "      <td>ISIC_9999937</td>\n",
              "      <td>1</td>\n",
              "      <td>0</td>\n",
              "      <td>0</td>\n",
              "      <td>0</td>\n",
              "      <td>0</td>\n",
              "      <td>0</td>\n",
              "      <td>0</td>\n",
              "      <td>0</td>\n",
              "      <td>...</td>\n",
              "      <td>0</td>\n",
              "      <td>0</td>\n",
              "      <td>0</td>\n",
              "      <td>0</td>\n",
              "      <td>0</td>\n",
              "      <td>0</td>\n",
              "      <td>0</td>\n",
              "      <td>0</td>\n",
              "      <td>0</td>\n",
              "      <td>0</td>\n",
              "    </tr>\n",
              "    <tr>\n",
              "      <th>401055</th>\n",
              "      <td>0</td>\n",
              "      <td>ISIC_9999951</td>\n",
              "      <td>1</td>\n",
              "      <td>0</td>\n",
              "      <td>0</td>\n",
              "      <td>0</td>\n",
              "      <td>0</td>\n",
              "      <td>0</td>\n",
              "      <td>0</td>\n",
              "      <td>0</td>\n",
              "      <td>...</td>\n",
              "      <td>0</td>\n",
              "      <td>0</td>\n",
              "      <td>0</td>\n",
              "      <td>0</td>\n",
              "      <td>0</td>\n",
              "      <td>0</td>\n",
              "      <td>0</td>\n",
              "      <td>0</td>\n",
              "      <td>0</td>\n",
              "      <td>0</td>\n",
              "    </tr>\n",
              "    <tr>\n",
              "      <th>401056</th>\n",
              "      <td>0</td>\n",
              "      <td>ISIC_9999960</td>\n",
              "      <td>1</td>\n",
              "      <td>0</td>\n",
              "      <td>0</td>\n",
              "      <td>0</td>\n",
              "      <td>0</td>\n",
              "      <td>0</td>\n",
              "      <td>0</td>\n",
              "      <td>0</td>\n",
              "      <td>...</td>\n",
              "      <td>0</td>\n",
              "      <td>0</td>\n",
              "      <td>0</td>\n",
              "      <td>0</td>\n",
              "      <td>0</td>\n",
              "      <td>0</td>\n",
              "      <td>0</td>\n",
              "      <td>0</td>\n",
              "      <td>0</td>\n",
              "      <td>0</td>\n",
              "    </tr>\n",
              "    <tr>\n",
              "      <th>401057</th>\n",
              "      <td>0</td>\n",
              "      <td>ISIC_9999964</td>\n",
              "      <td>1</td>\n",
              "      <td>0</td>\n",
              "      <td>0</td>\n",
              "      <td>0</td>\n",
              "      <td>0</td>\n",
              "      <td>0</td>\n",
              "      <td>0</td>\n",
              "      <td>0</td>\n",
              "      <td>...</td>\n",
              "      <td>0</td>\n",
              "      <td>0</td>\n",
              "      <td>0</td>\n",
              "      <td>0</td>\n",
              "      <td>0</td>\n",
              "      <td>0</td>\n",
              "      <td>0</td>\n",
              "      <td>0</td>\n",
              "      <td>0</td>\n",
              "      <td>0</td>\n",
              "    </tr>\n",
              "    <tr>\n",
              "      <th>401058</th>\n",
              "      <td>0</td>\n",
              "      <td>ISIC_9999967</td>\n",
              "      <td>1</td>\n",
              "      <td>0</td>\n",
              "      <td>0</td>\n",
              "      <td>0</td>\n",
              "      <td>0</td>\n",
              "      <td>0</td>\n",
              "      <td>0</td>\n",
              "      <td>0</td>\n",
              "      <td>...</td>\n",
              "      <td>0</td>\n",
              "      <td>0</td>\n",
              "      <td>0</td>\n",
              "      <td>0</td>\n",
              "      <td>0</td>\n",
              "      <td>0</td>\n",
              "      <td>0</td>\n",
              "      <td>0</td>\n",
              "      <td>0</td>\n",
              "      <td>0</td>\n",
              "    </tr>\n",
              "  </tbody>\n",
              "</table>\n",
              "<p>401059 rows × 54 columns</p>\n",
              "</div>\n",
              "    <div class=\"colab-df-buttons\">\n",
              "\n",
              "  <div class=\"colab-df-container\">\n",
              "    <button class=\"colab-df-convert\" onclick=\"convertToInteractive('df-96a4df98-4069-4938-9411-c3091bd49a9e')\"\n",
              "            title=\"Convert this dataframe to an interactive table.\"\n",
              "            style=\"display:none;\">\n",
              "\n",
              "  <svg xmlns=\"http://www.w3.org/2000/svg\" height=\"24px\" viewBox=\"0 -960 960 960\">\n",
              "    <path d=\"M120-120v-720h720v720H120Zm60-500h600v-160H180v160Zm220 220h160v-160H400v160Zm0 220h160v-160H400v160ZM180-400h160v-160H180v160Zm440 0h160v-160H620v160ZM180-180h160v-160H180v160Zm440 0h160v-160H620v160Z\"/>\n",
              "  </svg>\n",
              "    </button>\n",
              "\n",
              "  <style>\n",
              "    .colab-df-container {\n",
              "      display:flex;\n",
              "      gap: 12px;\n",
              "    }\n",
              "\n",
              "    .colab-df-convert {\n",
              "      background-color: #E8F0FE;\n",
              "      border: none;\n",
              "      border-radius: 50%;\n",
              "      cursor: pointer;\n",
              "      display: none;\n",
              "      fill: #1967D2;\n",
              "      height: 32px;\n",
              "      padding: 0 0 0 0;\n",
              "      width: 32px;\n",
              "    }\n",
              "\n",
              "    .colab-df-convert:hover {\n",
              "      background-color: #E2EBFA;\n",
              "      box-shadow: 0px 1px 2px rgba(60, 64, 67, 0.3), 0px 1px 3px 1px rgba(60, 64, 67, 0.15);\n",
              "      fill: #174EA6;\n",
              "    }\n",
              "\n",
              "    .colab-df-buttons div {\n",
              "      margin-bottom: 4px;\n",
              "    }\n",
              "\n",
              "    [theme=dark] .colab-df-convert {\n",
              "      background-color: #3B4455;\n",
              "      fill: #D2E3FC;\n",
              "    }\n",
              "\n",
              "    [theme=dark] .colab-df-convert:hover {\n",
              "      background-color: #434B5C;\n",
              "      box-shadow: 0px 1px 3px 1px rgba(0, 0, 0, 0.15);\n",
              "      filter: drop-shadow(0px 1px 2px rgba(0, 0, 0, 0.3));\n",
              "      fill: #FFFFFF;\n",
              "    }\n",
              "  </style>\n",
              "\n",
              "    <script>\n",
              "      const buttonEl =\n",
              "        document.querySelector('#df-96a4df98-4069-4938-9411-c3091bd49a9e button.colab-df-convert');\n",
              "      buttonEl.style.display =\n",
              "        google.colab.kernel.accessAllowed ? 'block' : 'none';\n",
              "\n",
              "      async function convertToInteractive(key) {\n",
              "        const element = document.querySelector('#df-96a4df98-4069-4938-9411-c3091bd49a9e');\n",
              "        const dataTable =\n",
              "          await google.colab.kernel.invokeFunction('convertToInteractive',\n",
              "                                                    [key], {});\n",
              "        if (!dataTable) return;\n",
              "\n",
              "        const docLinkHtml = 'Like what you see? Visit the ' +\n",
              "          '<a target=\"_blank\" href=https://colab.research.google.com/notebooks/data_table.ipynb>data table notebook</a>'\n",
              "          + ' to learn more about interactive tables.';\n",
              "        element.innerHTML = '';\n",
              "        dataTable['output_type'] = 'display_data';\n",
              "        await google.colab.output.renderOutput(dataTable, element);\n",
              "        const docLink = document.createElement('div');\n",
              "        docLink.innerHTML = docLinkHtml;\n",
              "        element.appendChild(docLink);\n",
              "      }\n",
              "    </script>\n",
              "  </div>\n",
              "\n",
              "\n",
              "    <div id=\"df-1a40648c-0862-42b7-a160-5a25e54edf01\">\n",
              "      <button class=\"colab-df-quickchart\" onclick=\"quickchart('df-1a40648c-0862-42b7-a160-5a25e54edf01')\"\n",
              "                title=\"Suggest charts\"\n",
              "                style=\"display:none;\">\n",
              "\n",
              "<svg xmlns=\"http://www.w3.org/2000/svg\" height=\"24px\"viewBox=\"0 0 24 24\"\n",
              "     width=\"24px\">\n",
              "    <g>\n",
              "        <path d=\"M19 3H5c-1.1 0-2 .9-2 2v14c0 1.1.9 2 2 2h14c1.1 0 2-.9 2-2V5c0-1.1-.9-2-2-2zM9 17H7v-7h2v7zm4 0h-2V7h2v10zm4 0h-2v-4h2v4z\"/>\n",
              "    </g>\n",
              "</svg>\n",
              "      </button>\n",
              "\n",
              "<style>\n",
              "  .colab-df-quickchart {\n",
              "      --bg-color: #E8F0FE;\n",
              "      --fill-color: #1967D2;\n",
              "      --hover-bg-color: #E2EBFA;\n",
              "      --hover-fill-color: #174EA6;\n",
              "      --disabled-fill-color: #AAA;\n",
              "      --disabled-bg-color: #DDD;\n",
              "  }\n",
              "\n",
              "  [theme=dark] .colab-df-quickchart {\n",
              "      --bg-color: #3B4455;\n",
              "      --fill-color: #D2E3FC;\n",
              "      --hover-bg-color: #434B5C;\n",
              "      --hover-fill-color: #FFFFFF;\n",
              "      --disabled-bg-color: #3B4455;\n",
              "      --disabled-fill-color: #666;\n",
              "  }\n",
              "\n",
              "  .colab-df-quickchart {\n",
              "    background-color: var(--bg-color);\n",
              "    border: none;\n",
              "    border-radius: 50%;\n",
              "    cursor: pointer;\n",
              "    display: none;\n",
              "    fill: var(--fill-color);\n",
              "    height: 32px;\n",
              "    padding: 0;\n",
              "    width: 32px;\n",
              "  }\n",
              "\n",
              "  .colab-df-quickchart:hover {\n",
              "    background-color: var(--hover-bg-color);\n",
              "    box-shadow: 0 1px 2px rgba(60, 64, 67, 0.3), 0 1px 3px 1px rgba(60, 64, 67, 0.15);\n",
              "    fill: var(--button-hover-fill-color);\n",
              "  }\n",
              "\n",
              "  .colab-df-quickchart-complete:disabled,\n",
              "  .colab-df-quickchart-complete:disabled:hover {\n",
              "    background-color: var(--disabled-bg-color);\n",
              "    fill: var(--disabled-fill-color);\n",
              "    box-shadow: none;\n",
              "  }\n",
              "\n",
              "  .colab-df-spinner {\n",
              "    border: 2px solid var(--fill-color);\n",
              "    border-color: transparent;\n",
              "    border-bottom-color: var(--fill-color);\n",
              "    animation:\n",
              "      spin 1s steps(1) infinite;\n",
              "  }\n",
              "\n",
              "  @keyframes spin {\n",
              "    0% {\n",
              "      border-color: transparent;\n",
              "      border-bottom-color: var(--fill-color);\n",
              "      border-left-color: var(--fill-color);\n",
              "    }\n",
              "    20% {\n",
              "      border-color: transparent;\n",
              "      border-left-color: var(--fill-color);\n",
              "      border-top-color: var(--fill-color);\n",
              "    }\n",
              "    30% {\n",
              "      border-color: transparent;\n",
              "      border-left-color: var(--fill-color);\n",
              "      border-top-color: var(--fill-color);\n",
              "      border-right-color: var(--fill-color);\n",
              "    }\n",
              "    40% {\n",
              "      border-color: transparent;\n",
              "      border-right-color: var(--fill-color);\n",
              "      border-top-color: var(--fill-color);\n",
              "    }\n",
              "    60% {\n",
              "      border-color: transparent;\n",
              "      border-right-color: var(--fill-color);\n",
              "    }\n",
              "    80% {\n",
              "      border-color: transparent;\n",
              "      border-right-color: var(--fill-color);\n",
              "      border-bottom-color: var(--fill-color);\n",
              "    }\n",
              "    90% {\n",
              "      border-color: transparent;\n",
              "      border-bottom-color: var(--fill-color);\n",
              "    }\n",
              "  }\n",
              "</style>\n",
              "\n",
              "      <script>\n",
              "        async function quickchart(key) {\n",
              "          const quickchartButtonEl =\n",
              "            document.querySelector('#' + key + ' button');\n",
              "          quickchartButtonEl.disabled = true;  // To prevent multiple clicks.\n",
              "          quickchartButtonEl.classList.add('colab-df-spinner');\n",
              "          try {\n",
              "            const charts = await google.colab.kernel.invokeFunction(\n",
              "                'suggestCharts', [key], {});\n",
              "          } catch (error) {\n",
              "            console.error('Error during call to suggestCharts:', error);\n",
              "          }\n",
              "          quickchartButtonEl.classList.remove('colab-df-spinner');\n",
              "          quickchartButtonEl.classList.add('colab-df-quickchart-complete');\n",
              "        }\n",
              "        (() => {\n",
              "          let quickchartButtonEl =\n",
              "            document.querySelector('#df-1a40648c-0862-42b7-a160-5a25e54edf01 button');\n",
              "          quickchartButtonEl.style.display =\n",
              "            google.colab.kernel.accessAllowed ? 'block' : 'none';\n",
              "        })();\n",
              "      </script>\n",
              "    </div>\n",
              "\n",
              "    </div>\n",
              "  </div>\n"
            ],
            "application/vnd.google.colaboratory.intrinsic+json": {
              "type": "dataframe"
            }
          },
          "metadata": {},
          "execution_count": 151
        }
      ]
    },
    {
      "cell_type": "markdown",
      "source": [
        "## patient data encoding"
      ],
      "metadata": {
        "id": "dHTjS61Cyr3o"
      }
    },
    {
      "cell_type": "code",
      "source": [
        "data[\"sex\"].fillna(data[\"sex\"].mode()[0],inplace=True)\n",
        "data[\"sex\"] = data[\"sex\"].map({\"male\":0 ,\"female\" : 1})\n",
        "top_3_anatom_sites = data[\"anatom_site_general\"].value_counts().index[:3].tolist()\n",
        "data[\"anatom_site_general\"] = data[\"anatom_site_general\"].apply(lambda x: np.random.choice(top_3_anatom_sites) if pd.isna(x) else x)\n",
        "data[\"age_approx\"].fillna(data[\"age_approx\"].median(),inplace=True)"
      ],
      "metadata": {
        "id": "oCiCGQGAs4U5"
      },
      "execution_count": 152,
      "outputs": []
    },
    {
      "cell_type": "code",
      "source": [
        "data_balanced = data[to_keep]\n",
        "data_balanced.info()"
      ],
      "metadata": {
        "colab": {
          "base_uri": "https://localhost:8080/"
        },
        "id": "icmbQq_Bsqs2",
        "outputId": "a9a12e84-e17e-4906-a66d-174e214e58ed"
      },
      "execution_count": 153,
      "outputs": [
        {
          "output_type": "stream",
          "name": "stdout",
          "text": [
            "<class 'pandas.core.frame.DataFrame'>\n",
            "RangeIndex: 401059 entries, 0 to 401058\n",
            "Data columns (total 36 columns):\n",
            " #   Column                       Non-Null Count   Dtype  \n",
            "---  ------                       --------------   -----  \n",
            " 0   target                       401059 non-null  int64  \n",
            " 1   age_approx                   401059 non-null  float64\n",
            " 2   sex                          401059 non-null  int64  \n",
            " 3   isic_id                      401059 non-null  object \n",
            " 4   tbp_lv_areaMM2               401059 non-null  float64\n",
            " 5   tbp_lv_area_perim_ratio      401059 non-null  float64\n",
            " 6   tbp_lv_perimeterMM           401059 non-null  float64\n",
            " 7   tbp_lv_color_std_mean        401059 non-null  float64\n",
            " 8   tbp_lv_radial_color_std_max  401059 non-null  float64\n",
            " 9   clin_size_long_diam_mm       401059 non-null  float64\n",
            " 10  tbp_lv_norm_border           401059 non-null  float64\n",
            " 11  tbp_lv_norm_color            401059 non-null  float64\n",
            " 12  tbp_lv_A                     401059 non-null  float64\n",
            " 13  tbp_lv_Aext                  401059 non-null  float64\n",
            " 14  tbp_lv_B                     401059 non-null  float64\n",
            " 15  tbp_lv_Bext                  401059 non-null  float64\n",
            " 16  tbp_lv_C                     401059 non-null  float64\n",
            " 17  tbp_lv_Cext                  401059 non-null  float64\n",
            " 18  tbp_lv_H                     401059 non-null  float64\n",
            " 19  tbp_lv_Hext                  401059 non-null  float64\n",
            " 20  tbp_lv_L                     401059 non-null  float64\n",
            " 21  tbp_lv_Lext                  401059 non-null  float64\n",
            " 22  tbp_lv_deltaA                401059 non-null  float64\n",
            " 23  tbp_lv_deltaB                401059 non-null  float64\n",
            " 24  tbp_lv_deltaL                401059 non-null  float64\n",
            " 25  tbp_lv_deltaLB               401059 non-null  float64\n",
            " 26  tbp_lv_deltaLBnorm           401059 non-null  float64\n",
            " 27  tbp_lv_eccentricity          401059 non-null  float64\n",
            " 28  tbp_lv_minorAxisMM           401059 non-null  float64\n",
            " 29  tbp_lv_stdL                  401059 non-null  float64\n",
            " 30  tbp_lv_stdLExt               401059 non-null  float64\n",
            " 31  tbp_lv_symm_2axis            401059 non-null  float64\n",
            " 32  tbp_lv_symm_2axis_angle      401059 non-null  int64  \n",
            " 33  tbp_lv_x                     401059 non-null  float64\n",
            " 34  tbp_lv_y                     401059 non-null  float64\n",
            " 35  tbp_lv_z                     401059 non-null  float64\n",
            "dtypes: float64(32), int64(3), object(1)\n",
            "memory usage: 110.2+ MB\n"
          ]
        }
      ]
    },
    {
      "cell_type": "code",
      "source": [
        "data_balanced.describe()"
      ],
      "metadata": {
        "colab": {
          "base_uri": "https://localhost:8080/",
          "height": 350
        },
        "id": "d1jQhVHducoN",
        "outputId": "97c33211-8efe-4a6f-c842-16f8be79380f"
      },
      "execution_count": 154,
      "outputs": [
        {
          "output_type": "execute_result",
          "data": {
            "text/plain": [
              "              target     age_approx            sex  tbp_lv_areaMM2  \\\n",
              "count  401059.000000  401059.000000  401059.000000   401059.000000   \n",
              "mean        0.000980      58.026849       0.309171        8.539975   \n",
              "std         0.031288      13.549664       0.462153        9.679312   \n",
              "min         0.000000       5.000000       0.000000        0.431601   \n",
              "25%         0.000000      50.000000       0.000000        4.109589   \n",
              "50%         0.000000      60.000000       0.000000        5.685870   \n",
              "75%         0.000000      70.000000       1.000000        9.119910   \n",
              "max         1.000000      85.000000       1.000000      334.152700   \n",
              "\n",
              "       tbp_lv_area_perim_ratio  tbp_lv_perimeterMM  tbp_lv_color_std_mean  \\\n",
              "count            401059.000000       401059.000000          401059.000000   \n",
              "mean                 19.084517           11.878891               1.070408   \n",
              "std                   5.357863            5.919302               0.762918   \n",
              "min                  10.761634            2.579237               0.000000   \n",
              "25%                  15.426205            8.338364               0.574909   \n",
              "50%                  17.423950           10.015440               0.931402   \n",
              "75%                  21.011340           13.209100               1.412154   \n",
              "max                  87.205340          102.493900               9.952932   \n",
              "\n",
              "       tbp_lv_radial_color_std_max  clin_size_long_diam_mm  \\\n",
              "count                401059.000000           401059.000000   \n",
              "mean                      1.016459                3.930827   \n",
              "std                       0.734631                1.743068   \n",
              "min                       0.000000                1.000000   \n",
              "25%                       0.563891                2.840000   \n",
              "50%                       0.902281                3.370000   \n",
              "75%                       1.334523                4.380000   \n",
              "max                      11.491140               28.400000   \n",
              "\n",
              "       tbp_lv_norm_border  ...  tbp_lv_deltaLBnorm  tbp_lv_eccentricity  \\\n",
              "count       401059.000000  ...       401059.000000        401059.000000   \n",
              "mean             3.451523  ...            7.538922             0.741238   \n",
              "std              1.724557  ...            2.404951             0.143857   \n",
              "min              0.589426  ...            3.001138             0.027667   \n",
              "25%              2.143836  ...            5.748160             0.656627   \n",
              "50%              2.996933  ...            6.946320             0.768215   \n",
              "75%              4.358399  ...            8.748403             0.853175   \n",
              "max             10.000000  ...           30.487456             0.974960   \n",
              "\n",
              "       tbp_lv_minorAxisMM    tbp_lv_stdL  tbp_lv_stdLExt  tbp_lv_symm_2axis  \\\n",
              "count       401059.000000  401059.000000   401059.000000      401059.000000   \n",
              "mean             2.539773       2.715190        2.238605           0.306823   \n",
              "std              1.173169       1.738165        0.623884           0.125038   \n",
              "min              0.273973       0.268160        0.636247           0.052034   \n",
              "25%              1.812707       1.456570        1.834745           0.211429   \n",
              "50%              2.265201       2.186693        2.149758           0.282297   \n",
              "75%              2.905918       3.474565        2.531443           0.382022   \n",
              "max             18.387900      17.563650       25.534791           0.977055   \n",
              "\n",
              "       tbp_lv_symm_2axis_angle       tbp_lv_x       tbp_lv_y       tbp_lv_z  \n",
              "count            401059.000000  401059.000000  401059.000000  401059.000000  \n",
              "mean                 86.332073      -3.091862    1039.598221      55.823389  \n",
              "std                  52.559511     197.257995     409.819653      87.968245  \n",
              "min                   0.000000    -624.870728   -1052.134000    -291.890442  \n",
              "25%                  40.000000    -147.022125     746.519673      -8.962647  \n",
              "50%                  90.000000      -5.747253    1172.803000      67.957947  \n",
              "75%                 130.000000     140.474835    1342.131540     126.611567  \n",
              "max                 175.000000     614.471700    1887.766846     319.407000  \n",
              "\n",
              "[8 rows x 35 columns]"
            ],
            "text/html": [
              "\n",
              "  <div id=\"df-eb6c56dc-0440-4709-bb89-4e75fdc178d1\" class=\"colab-df-container\">\n",
              "    <div>\n",
              "<style scoped>\n",
              "    .dataframe tbody tr th:only-of-type {\n",
              "        vertical-align: middle;\n",
              "    }\n",
              "\n",
              "    .dataframe tbody tr th {\n",
              "        vertical-align: top;\n",
              "    }\n",
              "\n",
              "    .dataframe thead th {\n",
              "        text-align: right;\n",
              "    }\n",
              "</style>\n",
              "<table border=\"1\" class=\"dataframe\">\n",
              "  <thead>\n",
              "    <tr style=\"text-align: right;\">\n",
              "      <th></th>\n",
              "      <th>target</th>\n",
              "      <th>age_approx</th>\n",
              "      <th>sex</th>\n",
              "      <th>tbp_lv_areaMM2</th>\n",
              "      <th>tbp_lv_area_perim_ratio</th>\n",
              "      <th>tbp_lv_perimeterMM</th>\n",
              "      <th>tbp_lv_color_std_mean</th>\n",
              "      <th>tbp_lv_radial_color_std_max</th>\n",
              "      <th>clin_size_long_diam_mm</th>\n",
              "      <th>tbp_lv_norm_border</th>\n",
              "      <th>...</th>\n",
              "      <th>tbp_lv_deltaLBnorm</th>\n",
              "      <th>tbp_lv_eccentricity</th>\n",
              "      <th>tbp_lv_minorAxisMM</th>\n",
              "      <th>tbp_lv_stdL</th>\n",
              "      <th>tbp_lv_stdLExt</th>\n",
              "      <th>tbp_lv_symm_2axis</th>\n",
              "      <th>tbp_lv_symm_2axis_angle</th>\n",
              "      <th>tbp_lv_x</th>\n",
              "      <th>tbp_lv_y</th>\n",
              "      <th>tbp_lv_z</th>\n",
              "    </tr>\n",
              "  </thead>\n",
              "  <tbody>\n",
              "    <tr>\n",
              "      <th>count</th>\n",
              "      <td>401059.000000</td>\n",
              "      <td>401059.000000</td>\n",
              "      <td>401059.000000</td>\n",
              "      <td>401059.000000</td>\n",
              "      <td>401059.000000</td>\n",
              "      <td>401059.000000</td>\n",
              "      <td>401059.000000</td>\n",
              "      <td>401059.000000</td>\n",
              "      <td>401059.000000</td>\n",
              "      <td>401059.000000</td>\n",
              "      <td>...</td>\n",
              "      <td>401059.000000</td>\n",
              "      <td>401059.000000</td>\n",
              "      <td>401059.000000</td>\n",
              "      <td>401059.000000</td>\n",
              "      <td>401059.000000</td>\n",
              "      <td>401059.000000</td>\n",
              "      <td>401059.000000</td>\n",
              "      <td>401059.000000</td>\n",
              "      <td>401059.000000</td>\n",
              "      <td>401059.000000</td>\n",
              "    </tr>\n",
              "    <tr>\n",
              "      <th>mean</th>\n",
              "      <td>0.000980</td>\n",
              "      <td>58.026849</td>\n",
              "      <td>0.309171</td>\n",
              "      <td>8.539975</td>\n",
              "      <td>19.084517</td>\n",
              "      <td>11.878891</td>\n",
              "      <td>1.070408</td>\n",
              "      <td>1.016459</td>\n",
              "      <td>3.930827</td>\n",
              "      <td>3.451523</td>\n",
              "      <td>...</td>\n",
              "      <td>7.538922</td>\n",
              "      <td>0.741238</td>\n",
              "      <td>2.539773</td>\n",
              "      <td>2.715190</td>\n",
              "      <td>2.238605</td>\n",
              "      <td>0.306823</td>\n",
              "      <td>86.332073</td>\n",
              "      <td>-3.091862</td>\n",
              "      <td>1039.598221</td>\n",
              "      <td>55.823389</td>\n",
              "    </tr>\n",
              "    <tr>\n",
              "      <th>std</th>\n",
              "      <td>0.031288</td>\n",
              "      <td>13.549664</td>\n",
              "      <td>0.462153</td>\n",
              "      <td>9.679312</td>\n",
              "      <td>5.357863</td>\n",
              "      <td>5.919302</td>\n",
              "      <td>0.762918</td>\n",
              "      <td>0.734631</td>\n",
              "      <td>1.743068</td>\n",
              "      <td>1.724557</td>\n",
              "      <td>...</td>\n",
              "      <td>2.404951</td>\n",
              "      <td>0.143857</td>\n",
              "      <td>1.173169</td>\n",
              "      <td>1.738165</td>\n",
              "      <td>0.623884</td>\n",
              "      <td>0.125038</td>\n",
              "      <td>52.559511</td>\n",
              "      <td>197.257995</td>\n",
              "      <td>409.819653</td>\n",
              "      <td>87.968245</td>\n",
              "    </tr>\n",
              "    <tr>\n",
              "      <th>min</th>\n",
              "      <td>0.000000</td>\n",
              "      <td>5.000000</td>\n",
              "      <td>0.000000</td>\n",
              "      <td>0.431601</td>\n",
              "      <td>10.761634</td>\n",
              "      <td>2.579237</td>\n",
              "      <td>0.000000</td>\n",
              "      <td>0.000000</td>\n",
              "      <td>1.000000</td>\n",
              "      <td>0.589426</td>\n",
              "      <td>...</td>\n",
              "      <td>3.001138</td>\n",
              "      <td>0.027667</td>\n",
              "      <td>0.273973</td>\n",
              "      <td>0.268160</td>\n",
              "      <td>0.636247</td>\n",
              "      <td>0.052034</td>\n",
              "      <td>0.000000</td>\n",
              "      <td>-624.870728</td>\n",
              "      <td>-1052.134000</td>\n",
              "      <td>-291.890442</td>\n",
              "    </tr>\n",
              "    <tr>\n",
              "      <th>25%</th>\n",
              "      <td>0.000000</td>\n",
              "      <td>50.000000</td>\n",
              "      <td>0.000000</td>\n",
              "      <td>4.109589</td>\n",
              "      <td>15.426205</td>\n",
              "      <td>8.338364</td>\n",
              "      <td>0.574909</td>\n",
              "      <td>0.563891</td>\n",
              "      <td>2.840000</td>\n",
              "      <td>2.143836</td>\n",
              "      <td>...</td>\n",
              "      <td>5.748160</td>\n",
              "      <td>0.656627</td>\n",
              "      <td>1.812707</td>\n",
              "      <td>1.456570</td>\n",
              "      <td>1.834745</td>\n",
              "      <td>0.211429</td>\n",
              "      <td>40.000000</td>\n",
              "      <td>-147.022125</td>\n",
              "      <td>746.519673</td>\n",
              "      <td>-8.962647</td>\n",
              "    </tr>\n",
              "    <tr>\n",
              "      <th>50%</th>\n",
              "      <td>0.000000</td>\n",
              "      <td>60.000000</td>\n",
              "      <td>0.000000</td>\n",
              "      <td>5.685870</td>\n",
              "      <td>17.423950</td>\n",
              "      <td>10.015440</td>\n",
              "      <td>0.931402</td>\n",
              "      <td>0.902281</td>\n",
              "      <td>3.370000</td>\n",
              "      <td>2.996933</td>\n",
              "      <td>...</td>\n",
              "      <td>6.946320</td>\n",
              "      <td>0.768215</td>\n",
              "      <td>2.265201</td>\n",
              "      <td>2.186693</td>\n",
              "      <td>2.149758</td>\n",
              "      <td>0.282297</td>\n",
              "      <td>90.000000</td>\n",
              "      <td>-5.747253</td>\n",
              "      <td>1172.803000</td>\n",
              "      <td>67.957947</td>\n",
              "    </tr>\n",
              "    <tr>\n",
              "      <th>75%</th>\n",
              "      <td>0.000000</td>\n",
              "      <td>70.000000</td>\n",
              "      <td>1.000000</td>\n",
              "      <td>9.119910</td>\n",
              "      <td>21.011340</td>\n",
              "      <td>13.209100</td>\n",
              "      <td>1.412154</td>\n",
              "      <td>1.334523</td>\n",
              "      <td>4.380000</td>\n",
              "      <td>4.358399</td>\n",
              "      <td>...</td>\n",
              "      <td>8.748403</td>\n",
              "      <td>0.853175</td>\n",
              "      <td>2.905918</td>\n",
              "      <td>3.474565</td>\n",
              "      <td>2.531443</td>\n",
              "      <td>0.382022</td>\n",
              "      <td>130.000000</td>\n",
              "      <td>140.474835</td>\n",
              "      <td>1342.131540</td>\n",
              "      <td>126.611567</td>\n",
              "    </tr>\n",
              "    <tr>\n",
              "      <th>max</th>\n",
              "      <td>1.000000</td>\n",
              "      <td>85.000000</td>\n",
              "      <td>1.000000</td>\n",
              "      <td>334.152700</td>\n",
              "      <td>87.205340</td>\n",
              "      <td>102.493900</td>\n",
              "      <td>9.952932</td>\n",
              "      <td>11.491140</td>\n",
              "      <td>28.400000</td>\n",
              "      <td>10.000000</td>\n",
              "      <td>...</td>\n",
              "      <td>30.487456</td>\n",
              "      <td>0.974960</td>\n",
              "      <td>18.387900</td>\n",
              "      <td>17.563650</td>\n",
              "      <td>25.534791</td>\n",
              "      <td>0.977055</td>\n",
              "      <td>175.000000</td>\n",
              "      <td>614.471700</td>\n",
              "      <td>1887.766846</td>\n",
              "      <td>319.407000</td>\n",
              "    </tr>\n",
              "  </tbody>\n",
              "</table>\n",
              "<p>8 rows × 35 columns</p>\n",
              "</div>\n",
              "    <div class=\"colab-df-buttons\">\n",
              "\n",
              "  <div class=\"colab-df-container\">\n",
              "    <button class=\"colab-df-convert\" onclick=\"convertToInteractive('df-eb6c56dc-0440-4709-bb89-4e75fdc178d1')\"\n",
              "            title=\"Convert this dataframe to an interactive table.\"\n",
              "            style=\"display:none;\">\n",
              "\n",
              "  <svg xmlns=\"http://www.w3.org/2000/svg\" height=\"24px\" viewBox=\"0 -960 960 960\">\n",
              "    <path d=\"M120-120v-720h720v720H120Zm60-500h600v-160H180v160Zm220 220h160v-160H400v160Zm0 220h160v-160H400v160ZM180-400h160v-160H180v160Zm440 0h160v-160H620v160ZM180-180h160v-160H180v160Zm440 0h160v-160H620v160Z\"/>\n",
              "  </svg>\n",
              "    </button>\n",
              "\n",
              "  <style>\n",
              "    .colab-df-container {\n",
              "      display:flex;\n",
              "      gap: 12px;\n",
              "    }\n",
              "\n",
              "    .colab-df-convert {\n",
              "      background-color: #E8F0FE;\n",
              "      border: none;\n",
              "      border-radius: 50%;\n",
              "      cursor: pointer;\n",
              "      display: none;\n",
              "      fill: #1967D2;\n",
              "      height: 32px;\n",
              "      padding: 0 0 0 0;\n",
              "      width: 32px;\n",
              "    }\n",
              "\n",
              "    .colab-df-convert:hover {\n",
              "      background-color: #E2EBFA;\n",
              "      box-shadow: 0px 1px 2px rgba(60, 64, 67, 0.3), 0px 1px 3px 1px rgba(60, 64, 67, 0.15);\n",
              "      fill: #174EA6;\n",
              "    }\n",
              "\n",
              "    .colab-df-buttons div {\n",
              "      margin-bottom: 4px;\n",
              "    }\n",
              "\n",
              "    [theme=dark] .colab-df-convert {\n",
              "      background-color: #3B4455;\n",
              "      fill: #D2E3FC;\n",
              "    }\n",
              "\n",
              "    [theme=dark] .colab-df-convert:hover {\n",
              "      background-color: #434B5C;\n",
              "      box-shadow: 0px 1px 3px 1px rgba(0, 0, 0, 0.15);\n",
              "      filter: drop-shadow(0px 1px 2px rgba(0, 0, 0, 0.3));\n",
              "      fill: #FFFFFF;\n",
              "    }\n",
              "  </style>\n",
              "\n",
              "    <script>\n",
              "      const buttonEl =\n",
              "        document.querySelector('#df-eb6c56dc-0440-4709-bb89-4e75fdc178d1 button.colab-df-convert');\n",
              "      buttonEl.style.display =\n",
              "        google.colab.kernel.accessAllowed ? 'block' : 'none';\n",
              "\n",
              "      async function convertToInteractive(key) {\n",
              "        const element = document.querySelector('#df-eb6c56dc-0440-4709-bb89-4e75fdc178d1');\n",
              "        const dataTable =\n",
              "          await google.colab.kernel.invokeFunction('convertToInteractive',\n",
              "                                                    [key], {});\n",
              "        if (!dataTable) return;\n",
              "\n",
              "        const docLinkHtml = 'Like what you see? Visit the ' +\n",
              "          '<a target=\"_blank\" href=https://colab.research.google.com/notebooks/data_table.ipynb>data table notebook</a>'\n",
              "          + ' to learn more about interactive tables.';\n",
              "        element.innerHTML = '';\n",
              "        dataTable['output_type'] = 'display_data';\n",
              "        await google.colab.output.renderOutput(dataTable, element);\n",
              "        const docLink = document.createElement('div');\n",
              "        docLink.innerHTML = docLinkHtml;\n",
              "        element.appendChild(docLink);\n",
              "      }\n",
              "    </script>\n",
              "  </div>\n",
              "\n",
              "\n",
              "    <div id=\"df-8049452c-0391-4328-a20d-d23f1e7f4872\">\n",
              "      <button class=\"colab-df-quickchart\" onclick=\"quickchart('df-8049452c-0391-4328-a20d-d23f1e7f4872')\"\n",
              "                title=\"Suggest charts\"\n",
              "                style=\"display:none;\">\n",
              "\n",
              "<svg xmlns=\"http://www.w3.org/2000/svg\" height=\"24px\"viewBox=\"0 0 24 24\"\n",
              "     width=\"24px\">\n",
              "    <g>\n",
              "        <path d=\"M19 3H5c-1.1 0-2 .9-2 2v14c0 1.1.9 2 2 2h14c1.1 0 2-.9 2-2V5c0-1.1-.9-2-2-2zM9 17H7v-7h2v7zm4 0h-2V7h2v10zm4 0h-2v-4h2v4z\"/>\n",
              "    </g>\n",
              "</svg>\n",
              "      </button>\n",
              "\n",
              "<style>\n",
              "  .colab-df-quickchart {\n",
              "      --bg-color: #E8F0FE;\n",
              "      --fill-color: #1967D2;\n",
              "      --hover-bg-color: #E2EBFA;\n",
              "      --hover-fill-color: #174EA6;\n",
              "      --disabled-fill-color: #AAA;\n",
              "      --disabled-bg-color: #DDD;\n",
              "  }\n",
              "\n",
              "  [theme=dark] .colab-df-quickchart {\n",
              "      --bg-color: #3B4455;\n",
              "      --fill-color: #D2E3FC;\n",
              "      --hover-bg-color: #434B5C;\n",
              "      --hover-fill-color: #FFFFFF;\n",
              "      --disabled-bg-color: #3B4455;\n",
              "      --disabled-fill-color: #666;\n",
              "  }\n",
              "\n",
              "  .colab-df-quickchart {\n",
              "    background-color: var(--bg-color);\n",
              "    border: none;\n",
              "    border-radius: 50%;\n",
              "    cursor: pointer;\n",
              "    display: none;\n",
              "    fill: var(--fill-color);\n",
              "    height: 32px;\n",
              "    padding: 0;\n",
              "    width: 32px;\n",
              "  }\n",
              "\n",
              "  .colab-df-quickchart:hover {\n",
              "    background-color: var(--hover-bg-color);\n",
              "    box-shadow: 0 1px 2px rgba(60, 64, 67, 0.3), 0 1px 3px 1px rgba(60, 64, 67, 0.15);\n",
              "    fill: var(--button-hover-fill-color);\n",
              "  }\n",
              "\n",
              "  .colab-df-quickchart-complete:disabled,\n",
              "  .colab-df-quickchart-complete:disabled:hover {\n",
              "    background-color: var(--disabled-bg-color);\n",
              "    fill: var(--disabled-fill-color);\n",
              "    box-shadow: none;\n",
              "  }\n",
              "\n",
              "  .colab-df-spinner {\n",
              "    border: 2px solid var(--fill-color);\n",
              "    border-color: transparent;\n",
              "    border-bottom-color: var(--fill-color);\n",
              "    animation:\n",
              "      spin 1s steps(1) infinite;\n",
              "  }\n",
              "\n",
              "  @keyframes spin {\n",
              "    0% {\n",
              "      border-color: transparent;\n",
              "      border-bottom-color: var(--fill-color);\n",
              "      border-left-color: var(--fill-color);\n",
              "    }\n",
              "    20% {\n",
              "      border-color: transparent;\n",
              "      border-left-color: var(--fill-color);\n",
              "      border-top-color: var(--fill-color);\n",
              "    }\n",
              "    30% {\n",
              "      border-color: transparent;\n",
              "      border-left-color: var(--fill-color);\n",
              "      border-top-color: var(--fill-color);\n",
              "      border-right-color: var(--fill-color);\n",
              "    }\n",
              "    40% {\n",
              "      border-color: transparent;\n",
              "      border-right-color: var(--fill-color);\n",
              "      border-top-color: var(--fill-color);\n",
              "    }\n",
              "    60% {\n",
              "      border-color: transparent;\n",
              "      border-right-color: var(--fill-color);\n",
              "    }\n",
              "    80% {\n",
              "      border-color: transparent;\n",
              "      border-right-color: var(--fill-color);\n",
              "      border-bottom-color: var(--fill-color);\n",
              "    }\n",
              "    90% {\n",
              "      border-color: transparent;\n",
              "      border-bottom-color: var(--fill-color);\n",
              "    }\n",
              "  }\n",
              "</style>\n",
              "\n",
              "      <script>\n",
              "        async function quickchart(key) {\n",
              "          const quickchartButtonEl =\n",
              "            document.querySelector('#' + key + ' button');\n",
              "          quickchartButtonEl.disabled = true;  // To prevent multiple clicks.\n",
              "          quickchartButtonEl.classList.add('colab-df-spinner');\n",
              "          try {\n",
              "            const charts = await google.colab.kernel.invokeFunction(\n",
              "                'suggestCharts', [key], {});\n",
              "          } catch (error) {\n",
              "            console.error('Error during call to suggestCharts:', error);\n",
              "          }\n",
              "          quickchartButtonEl.classList.remove('colab-df-spinner');\n",
              "          quickchartButtonEl.classList.add('colab-df-quickchart-complete');\n",
              "        }\n",
              "        (() => {\n",
              "          let quickchartButtonEl =\n",
              "            document.querySelector('#df-8049452c-0391-4328-a20d-d23f1e7f4872 button');\n",
              "          quickchartButtonEl.style.display =\n",
              "            google.colab.kernel.accessAllowed ? 'block' : 'none';\n",
              "        })();\n",
              "      </script>\n",
              "    </div>\n",
              "\n",
              "    </div>\n",
              "  </div>\n"
            ],
            "application/vnd.google.colaboratory.intrinsic+json": {
              "type": "dataframe"
            }
          },
          "metadata": {},
          "execution_count": 154
        }
      ]
    },
    {
      "cell_type": "code",
      "source": [
        "data_to_be_scaled = data_balanced.drop(columns=[\"sex\",\"isic_id\",\"target\"]).columns\n",
        "from sklearn.preprocessing import StandardScaler\n",
        "sc = StandardScaler()\n",
        "data_balanced[data_to_be_scaled] = sc.fit_transform(data_balanced[data_to_be_scaled])"
      ],
      "metadata": {
        "id": "Nphb_m0Ps0-L"
      },
      "execution_count": 155,
      "outputs": []
    },
    {
      "cell_type": "code",
      "source": [
        "from sklearn.preprocessing import OneHotEncoder\n",
        "ohe = OneHotEncoder()\n",
        "tbp_lv_location = pd.DataFrame(ohe.fit_transform(data[[\"tbp_lv_location\"]]).astype(int).toarray())\n",
        "tbp_lv_location.columns = ohe.get_feature_names_out()"
      ],
      "metadata": {
        "id": "xoSZbTc4vg0M"
      },
      "execution_count": 156,
      "outputs": []
    },
    {
      "cell_type": "code",
      "source": [
        "ohe = OneHotEncoder()\n",
        "anatom_site_general = pd.DataFrame(ohe.fit_transform(data[[\"anatom_site_general\"]]).astype(int).toarray())\n",
        "anatom_site_general.columns = ohe.get_feature_names_out()"
      ],
      "metadata": {
        "id": "mZ1qRb86vgJp"
      },
      "execution_count": 157,
      "outputs": []
    },
    {
      "cell_type": "code",
      "source": [
        "ohe = OneHotEncoder()\n",
        "attribution = pd.DataFrame(ohe.fit_transform(data[[\"attribution\"]]).astype(int).toarray())\n",
        "attribution.columns = ohe.get_feature_names_out()"
      ],
      "metadata": {
        "id": "Ge6Hiy_tvj5A"
      },
      "execution_count": 158,
      "outputs": []
    },
    {
      "cell_type": "code",
      "source": [
        "data_balanced = pd.concat([data_balanced,tbp_lv_location,anatom_site_general,attribution],axis=1)\n",
        "data_balanced.to_csv(\"/content/drive/MyDrive/KDAG/kdag intras/data_final_processed.csv\",index = False)"
      ],
      "metadata": {
        "id": "QF2S7Lx4voRt"
      },
      "execution_count": 159,
      "outputs": []
    },
    {
      "cell_type": "code",
      "source": [
        "categorical_columns = [attribution.columns]\n",
        "categorical_columns.append(tbp_lv_location.columns)\n",
        "categorical_columns.append(anatom_site_general.columns)"
      ],
      "metadata": {
        "id": "wMHdo8ng04N0"
      },
      "execution_count": 160,
      "outputs": []
    },
    {
      "cell_type": "markdown",
      "source": [
        "# Modeling"
      ],
      "metadata": {
        "id": "g7ZbY8Sn-gZj"
      }
    },
    {
      "cell_type": "code",
      "source": [
        "import numpy as np\n",
        "import pandas as pd\n",
        "from sklearn.compose import ColumnTransformer\n",
        "from sklearn.impute import SimpleImputer\n",
        "from sklearn.metrics import accuracy_score, classification_report, confusion_matrix\n",
        "from sklearn.model_selection import train_test_split\n",
        "from sklearn.pipeline import Pipeline\n",
        "from sklearn.preprocessing import OneHotEncoder, StandardScaler"
      ],
      "metadata": {
        "id": "2zoAdkby-gJP"
      },
      "execution_count": 161,
      "outputs": []
    },
    {
      "cell_type": "code",
      "source": [
        "categorical_columns = [ 'attribution_ACEMID MIA',\n",
        "                        'attribution_Department of Dermatology, Hospital Clínic de Barcelona',\n",
        "                        'attribution_Department of Dermatology, University of Athens, Andreas Syggros Hospital of Skin and Venereal Diseases, Alexander Stratigos, Konstantinos Liopyris',\n",
        "                        'attribution_Frazer Institute, The University of Queensland, Dermatology Research Centre',\n",
        "                        'attribution_Memorial Sloan Kettering Cancer Center',\n",
        "                        'attribution_University Hospital of Basel',\n",
        "                        'attribution_ViDIR Group, Department of Dermatology, Medical University of Vienna'\n",
        "                        'tbp_lv_location_Head & Neck', 'tbp_lv_location_Left Arm',\n",
        "                        'tbp_lv_location_Left Arm - Lower', 'tbp_lv_location_Left Arm - Upper',\n",
        "                        'tbp_lv_location_Left Leg', 'tbp_lv_location_Left Leg - Lower',\n",
        "                        'tbp_lv_location_Left Leg - Upper', 'tbp_lv_location_Right Arm',\n",
        "                        'tbp_lv_location_Right Arm - Lower',\n",
        "                        'tbp_lv_location_Right Arm - Upper', 'tbp_lv_location_Right Leg',\n",
        "                        'tbp_lv_location_Right Leg - Lower',\n",
        "                        'tbp_lv_location_Right Leg - Upper', 'tbp_lv_location_Torso Back',\n",
        "                        'tbp_lv_location_Torso Back Bottom Third',\n",
        "                        'tbp_lv_location_Torso Back Middle Third',\n",
        "                        'tbp_lv_location_Torso Back Top Third', 'tbp_lv_location_Torso Front',\n",
        "                        'tbp_lv_location_Torso Front Bottom Half',\n",
        "                        'tbp_lv_location_Torso Front Top Half', 'tbp_lv_location_Unknown'\n",
        "                        'anatom_site_general_anterior torso', 'anatom_site_general_head/neck',\n",
        "                        'anatom_site_general_lower extremity',\n",
        "                        'anatom_site_general_posterior torso',\n",
        "                        'anatom_site_general_upper extremity']"
      ],
      "metadata": {
        "id": "sP3v_rx61JVD"
      },
      "execution_count": 162,
      "outputs": []
    },
    {
      "cell_type": "code",
      "source": [
        "data_balanced = pd.read_csv(\"/content/drive/MyDrive/KDAG/kdag intras/data_final_processed.csv\")"
      ],
      "metadata": {
        "id": "7pW5blgOwDqO"
      },
      "execution_count": 163,
      "outputs": []
    },
    {
      "cell_type": "code",
      "source": [
        "data_balanced.set_index('isic_id',inplace=True)"
      ],
      "metadata": {
        "id": "5IS_Sy-_3wjC"
      },
      "execution_count": 164,
      "outputs": []
    },
    {
      "cell_type": "code",
      "source": [
        "X = data_balanced.drop('target', axis=1)\n",
        "y = data_balanced['target']"
      ],
      "metadata": {
        "id": "couXKruNYP0x"
      },
      "execution_count": 165,
      "outputs": []
    },
    {
      "cell_type": "code",
      "source": [
        "numerical_features = [col for col in X.columns if col not in categorical_columns]\n",
        "categorical_features = categorical_columns\n",
        "\n",
        "numerical_transformer = Pipeline(\n",
        "    steps=[('imputer', SimpleImputer(strategy='median')),\n",
        "           ('scaler', StandardScaler())]\n",
        ")\n",
        "\n",
        "preprocessor = ColumnTransformer(\n",
        "    transformers=[('num', numerical_transformer, numerical_features)],\n",
        "    remainder='passthrough'\n",
        ")"
      ],
      "metadata": {
        "id": "D1V6qrbD-acp"
      },
      "execution_count": 166,
      "outputs": []
    },
    {
      "cell_type": "markdown",
      "source": [
        "# Logistic regression"
      ],
      "metadata": {
        "id": "p2bwuBc3J8Ge"
      }
    },
    {
      "cell_type": "code",
      "source": [
        "from sklearn.linear_model import LogisticRegression\n",
        "model_pipeline = Pipeline(\n",
        "    steps=[('preprocessor', preprocessor),\n",
        "           ('classifier', LogisticRegression(random_state=42, solver='liblinear'))]\n",
        ")"
      ],
      "metadata": {
        "id": "9dqL0FOxuD2z"
      },
      "execution_count": 167,
      "outputs": []
    },
    {
      "cell_type": "code",
      "source": [
        "df_minority = data_balanced[data_balanced[\"target\"] == 1]\n",
        "df_majority = data_balanced[data_balanced[\"target\"] == 0]"
      ],
      "metadata": {
        "id": "7r1oderd7MEE"
      },
      "execution_count": 168,
      "outputs": []
    },
    {
      "cell_type": "markdown",
      "source": [
        "## model training"
      ],
      "metadata": {
        "id": "RPr2Yc7lwxhA"
      }
    },
    {
      "cell_type": "markdown",
      "source": [
        "### entire_data"
      ],
      "metadata": {
        "id": "aW0iIRrD5IyS"
      }
    },
    {
      "cell_type": "code",
      "source": [
        "# Split the data into training and testing sets\n",
        "X_train, X_test, y_train, y_test = train_test_split(X, y, test_size=0.2, random_state=42, stratify=y)\n",
        "\n",
        "model_pipeline.fit(X_train, y_train)\n",
        "y_pred = model_pipeline.predict(X_test)\n",
        "\n",
        "# Evaluate the model\n",
        "accuracy = accuracy_score(y_test, y_pred)\n",
        "conf_matrix = confusion_matrix(y_test, y_pred)\n",
        "class_report = classification_report(y_test, y_pred)\n",
        "\n",
        "print(f\"Accuracy: {accuracy:.4f}\")\n",
        "print(\"\\nClassification Report:\",class_report)\n",
        "plt.figure(figsize=(4, 3))\n",
        "sns.heatmap(conf_matrix, annot=True, fmt='d', cmap='Blues', cbar=False)\n",
        "plt.xlabel('Predicted Label')\n",
        "plt.ylabel('True Label')\n",
        "plt.title('Confusion Matrix')\n",
        "plt.show()"
      ],
      "metadata": {
        "colab": {
          "base_uri": "https://localhost:8080/",
          "height": 0
        },
        "id": "VDAEYcJu5F2w",
        "outputId": "1a619dbd-6357-4113-a6ef-b743eac4d663"
      },
      "execution_count": 169,
      "outputs": [
        {
          "output_type": "stream",
          "name": "stdout",
          "text": [
            "Accuracy: 0.9990\n",
            "\n",
            "Classification Report:               precision    recall  f1-score   support\n",
            "\n",
            "           0       1.00      1.00      1.00     80133\n",
            "           1       0.00      0.00      0.00        79\n",
            "\n",
            "    accuracy                           1.00     80212\n",
            "   macro avg       0.50      0.50      0.50     80212\n",
            "weighted avg       1.00      1.00      1.00     80212\n",
            "\n"
          ]
        },
        {
          "output_type": "display_data",
          "data": {
            "text/plain": [
              "<Figure size 400x300 with 1 Axes>"
            ],
            "image/png": "[encoded data removed]"
          },
          "metadata": {}
        }
      ]
    },
    {
      "cell_type": "code",
      "source": [
        "id(model_pipeline)"
      ],
      "metadata": {
        "colab": {
          "base_uri": "https://localhost:8080/"
        },
        "id": "xFLWMVtOs4Oz",
        "outputId": "acb538c3-32e5-4d6c-834a-ad180c673e63"
      },
      "execution_count": 170,
      "outputs": [
        {
          "output_type": "execute_result",
          "data": {
            "text/plain": [
              "140700331028944"
            ]
          },
          "metadata": {},
          "execution_count": 170
        }
      ]
    },
    {
      "cell_type": "markdown",
      "source": [
        "### sample 1"
      ],
      "metadata": {
        "id": "z5wO0fij3CCr"
      }
    },
    {
      "cell_type": "code",
      "source": [
        "model_pipeline = Pipeline(\n",
        "    steps=[('preprocessor', preprocessor),\n",
        "           ('classifier', LogisticRegression(random_state=42, solver='liblinear'))]\n",
        ")"
      ],
      "metadata": {
        "id": "5cVtJjmIszUe"
      },
      "execution_count": 171,
      "outputs": []
    },
    {
      "cell_type": "code",
      "source": [
        "id(model_pipeline)"
      ],
      "metadata": {
        "colab": {
          "base_uri": "https://localhost:8080/"
        },
        "id": "BU_j1Dpxs0gM",
        "outputId": "4bf1a6b3-5514-4016-d730-d00ca4875770"
      },
      "execution_count": 172,
      "outputs": [
        {
          "output_type": "execute_result",
          "data": {
            "text/plain": [
              "140700328846160"
            ]
          },
          "metadata": {},
          "execution_count": 172
        }
      ]
    },
    {
      "cell_type": "code",
      "source": [
        "df_random_majority = df_majority.sample(n=10000, random_state=42)\n",
        "data_undersampled_1 = pd.concat([\n",
        "    df_random_majority,\n",
        "    df_minority\n",
        "])\n",
        "\n",
        "X = data_undersampled_1.drop('target', axis=1)\n",
        "y = data_undersampled_1['target']"
      ],
      "metadata": {
        "id": "7xGLUUq_wSDP"
      },
      "execution_count": 173,
      "outputs": []
    },
    {
      "cell_type": "code",
      "source": [
        "# Split the data into training and testing sets\n",
        "X_train, X_test, y_train, y_test = train_test_split(X, y, test_size=0.2, random_state=42, stratify=y)\n",
        "\n",
        "model_pipeline.fit(X_train, y_train)\n",
        "y_pred = model_pipeline.predict(X_test)\n",
        "\n",
        "# Evaluate the model\n",
        "accuracy = accuracy_score(y_test, y_pred)\n",
        "conf_matrix = confusion_matrix(y_test, y_pred)\n",
        "class_report = classification_report(y_test, y_pred)\n",
        "\n",
        "print(f\"Accuracy: {accuracy:.4f}\")\n",
        "print(\"\\nClassification Report:\",class_report)\n",
        "plt.figure(figsize=(4, 3))\n",
        "sns.heatmap(conf_matrix, annot=True, fmt='d', cmap='Blues', cbar=False)\n",
        "plt.xlabel('Predicted Label')\n",
        "plt.ylabel('True Label')\n",
        "plt.title('Confusion Matrix')\n",
        "plt.show()"
      ],
      "metadata": {
        "colab": {
          "base_uri": "https://localhost:8080/",
          "height": 0
        },
        "id": "KOkej6Th2f5h",
        "outputId": "86d16536-9088-43e8-ab81-ee9ae52729a0"
      },
      "execution_count": 174,
      "outputs": [
        {
          "output_type": "stream",
          "name": "stdout",
          "text": [
            "Accuracy: 0.9654\n",
            "\n",
            "Classification Report:               precision    recall  f1-score   support\n",
            "\n",
            "           0       0.97      1.00      0.98      2000\n",
            "           1       0.68      0.16      0.27        79\n",
            "\n",
            "    accuracy                           0.97      2079\n",
            "   macro avg       0.83      0.58      0.62      2079\n",
            "weighted avg       0.96      0.97      0.96      2079\n",
            "\n"
          ]
        },
        {
          "output_type": "display_data",
          "data": {
            "text/plain": [
              "<Figure size 400x300 with 1 Axes>"
            ],
            "image/png": "[encoded data removed]"
          },
          "metadata": {}
        }
      ]
    },
    {
      "cell_type": "markdown",
      "source": [
        "### sample 2"
      ],
      "metadata": {
        "id": "336YepeL4-cy"
      }
    },
    {
      "cell_type": "code",
      "source": [
        "model_pipeline = Pipeline(\n",
        "    steps=[('preprocessor', preprocessor),\n",
        "           ('classifier', LogisticRegression(random_state=42, solver='liblinear'))]\n",
        ")\n",
        "id(model_pipeline)"
      ],
      "metadata": {
        "colab": {
          "base_uri": "https://localhost:8080/"
        },
        "id": "1-C3slv8tCnA",
        "outputId": "e11b209f-600b-40ad-9c02-b2ca93b0e1c5"
      },
      "execution_count": 175,
      "outputs": [
        {
          "output_type": "execute_result",
          "data": {
            "text/plain": [
              "140700297720592"
            ]
          },
          "metadata": {},
          "execution_count": 175
        }
      ]
    },
    {
      "cell_type": "code",
      "source": [
        "# Stratified sampling\n",
        "from sklearn.model_selection import train_test_split\n",
        "df_majority_stratified = df_majority.sample(n=len(df_minority), random_state=42)\n",
        "\n",
        "data_stratified = pd.concat([\n",
        "    df_majority_stratified,\n",
        "    df_minority\n",
        "])\n",
        "\n",
        "X = data_stratified.drop('target', axis=1)\n",
        "y = data_stratified['target']"
      ],
      "metadata": {
        "id": "y8kyP_q448Gb"
      },
      "execution_count": 176,
      "outputs": []
    },
    {
      "cell_type": "code",
      "source": [
        "X.shape"
      ],
      "metadata": {
        "colab": {
          "base_uri": "https://localhost:8080/"
        },
        "id": "OM3sbx7-6YGD",
        "outputId": "26c97768-9407-4c7c-bae3-ce2267b92ee4"
      },
      "execution_count": 177,
      "outputs": [
        {
          "output_type": "execute_result",
          "data": {
            "text/plain": [
              "(786, 67)"
            ]
          },
          "metadata": {},
          "execution_count": 177
        }
      ]
    },
    {
      "cell_type": "code",
      "source": [
        "X_train, X_test, y_train, y_test = train_test_split(X, y, test_size=0.2, random_state=42, stratify=y)\n",
        "\n",
        "model_pipeline.fit(X_train, y_train)\n",
        "y_pred = model_pipeline.predict(X_test)\n",
        "\n",
        "accuracy = accuracy_score(y_test, y_pred)\n",
        "conf_matrix = confusion_matrix(y_test, y_pred)\n",
        "class_report = classification_report(y_test, y_pred)\n",
        "\n",
        "print(f\"Accuracy: {accuracy:.4f}\")\n",
        "print(\"\\nClassification Report:\")\n",
        "print(class_report)\n",
        "plt.figure(figsize=(4, 3))\n",
        "sns.heatmap(conf_matrix, annot=True, fmt='d', cmap='Blues', cbar=False)\n",
        "plt.xlabel('Predicted Label')\n",
        "plt.ylabel('True Label')\n",
        "plt.title('Confusion Matrix')\n",
        "plt.show()"
      ],
      "metadata": {
        "colab": {
          "base_uri": "https://localhost:8080/",
          "height": 0
        },
        "id": "AKhzHltB6GRs",
        "outputId": "378729b1-c8b9-47d7-ab88-7f1cf80289da"
      },
      "execution_count": 178,
      "outputs": [
        {
          "output_type": "stream",
          "name": "stdout",
          "text": [
            "Accuracy: 0.8671\n",
            "\n",
            "Classification Report:\n",
            "              precision    recall  f1-score   support\n",
            "\n",
            "           0       0.85      0.89      0.87        79\n",
            "           1       0.88      0.85      0.86        79\n",
            "\n",
            "    accuracy                           0.87       158\n",
            "   macro avg       0.87      0.87      0.87       158\n",
            "weighted avg       0.87      0.87      0.87       158\n",
            "\n"
          ]
        },
        {
          "output_type": "display_data",
          "data": {
            "text/plain": [
              "<Figure size 400x300 with 1 Axes>"
            ],
            "image/png": "[encoded data removed]"
          },
          "metadata": {}
        }
      ]
    },
    {
      "cell_type": "markdown",
      "source": [
        "### sampling 3"
      ],
      "metadata": {
        "id": "jINRfHEY6j0p"
      }
    },
    {
      "cell_type": "markdown",
      "source": [
        "here we will resample the minority data for better results and take 10000 random points from the majority data"
      ],
      "metadata": {
        "id": "nmEkY9206mV0"
      }
    },
    {
      "cell_type": "markdown",
      "source": [
        "therefore here we also need to make sure only the training data gets the duplicates one"
      ],
      "metadata": {
        "id": "iixTDFxg8ZQB"
      }
    },
    {
      "cell_type": "code",
      "source": [
        "model_pipeline = Pipeline(\n",
        "    steps=[('preprocessor', preprocessor),\n",
        "           ('classifier', LogisticRegression(random_state=42, solver='liblinear'))]\n",
        ")\n",
        "id(model_pipeline)"
      ],
      "metadata": {
        "colab": {
          "base_uri": "https://localhost:8080/"
        },
        "id": "RqBiWcfstIaC",
        "outputId": "6b3118a3-c511-4081-b055-4d19212c9a52"
      },
      "execution_count": 179,
      "outputs": [
        {
          "output_type": "execute_result",
          "data": {
            "text/plain": [
              "140700323944528"
            ]
          },
          "metadata": {},
          "execution_count": 179
        }
      ]
    },
    {
      "cell_type": "code",
      "source": [
        "from sklearn.utils import resample\n",
        "from sklearn.model_selection import train_test_split\n",
        "\n",
        "X = data_balanced.drop('target', axis=1)\n",
        "y = data_balanced['target']\n",
        "X_train, X_test, y_train, y_test = train_test_split(X, y, test_size=0.2, random_state=42, stratify=y)\n",
        "\n",
        "X_train_major = X_train[y_train == 0]\n",
        "X_train_minor = X_train[y_train == 1]\n",
        "y_train_major = y_train[y_train == 0]\n",
        "y_train_minor = y_train[y_train == 1]\n",
        "\n",
        "X_train_minor_oversampled, y_train_minor_oversampled = resample(X_train_minor,y_train_minor,replace=True,n_samples=10000,random_state=42)\n",
        "\n",
        "train_undersampled = pd.concat([X_train_major,y_train_major],axis=1).sample(n=10000, random_state=42)\n",
        "X_train_major_undersampled = train_undersampled.drop('target', axis=1)\n",
        "y_train_major_undersampled = train_undersampled['target']\n",
        "\n",
        "\n",
        "X_train_resampled = pd.concat([X_train_minor_oversampled, X_train_major_undersampled])\n",
        "y_train_resampled = pd.concat([y_train_minor_oversampled, y_train_major_undersampled])"
      ],
      "metadata": {
        "id": "qUu0kzFt6jOc"
      },
      "execution_count": 180,
      "outputs": []
    },
    {
      "cell_type": "code",
      "source": [
        "model_pipeline.fit(X_train_resampled, y_train_resampled)\n",
        "y_pred = model_pipeline.predict(X_test)\n",
        "\n",
        "accuracy = accuracy_score(y_test, y_pred)\n",
        "conf_matrix = confusion_matrix(y_test, y_pred)\n",
        "class_report = classification_report(y_test, y_pred)\n",
        "\n",
        "print(f\"Accuracy: {accuracy:.4f}\")\n",
        "print(\"\\nClassification Report:\")\n",
        "print(class_report)\n",
        "plt.figure(figsize=(4, 3))\n",
        "sns.heatmap(conf_matrix, annot=True, fmt='d', cmap='Blues', cbar=False)\n",
        "plt.xlabel('Predicted Label')\n",
        "plt.ylabel('True Label')\n",
        "plt.title('Confusion Matrix')\n",
        "plt.show()"
      ],
      "metadata": {
        "colab": {
          "base_uri": "https://localhost:8080/",
          "height": 0
        },
        "id": "N1M2KziC7VAL",
        "outputId": "eee8c7c5-d561-4e40-edeb-7ad21beb8da0"
      },
      "execution_count": 181,
      "outputs": [
        {
          "output_type": "stream",
          "name": "stdout",
          "text": [
            "Accuracy: 0.8598\n",
            "\n",
            "Classification Report:\n",
            "              precision    recall  f1-score   support\n",
            "\n",
            "           0       1.00      0.86      0.92     80133\n",
            "           1       0.01      0.82      0.01        79\n",
            "\n",
            "    accuracy                           0.86     80212\n",
            "   macro avg       0.50      0.84      0.47     80212\n",
            "weighted avg       1.00      0.86      0.92     80212\n",
            "\n"
          ]
        },
        {
          "output_type": "display_data",
          "data": {
            "text/plain": [
              "<Figure size 400x300 with 1 Axes>"
            ],
            "image/png": "[encoded data removed]"
          },
          "metadata": {}
        }
      ]
    },
    {
      "cell_type": "markdown",
      "source": [
        "### 3x the undersampled data"
      ],
      "metadata": {
        "id": "Es_rBhsA73gz"
      }
    },
    {
      "cell_type": "code",
      "source": [
        "from sklearn.utils import resample\n",
        "from sklearn.model_selection import train_test_split\n",
        "\n",
        "X = data_balanced.drop('target', axis=1)\n",
        "y = data_balanced['target']\n",
        "X_train, X_test, y_train, y_test = train_test_split(X, y, test_size=0.2, random_state=42, stratify=y)\n",
        "\n",
        "X_train_major = X_train[y_train == 0]\n",
        "X_train_minor = X_train[y_train == 1]\n",
        "y_train_major = y_train[y_train == 0]\n",
        "y_train_minor = y_train[y_train == 1]\n",
        "\n",
        "X_train_minor_oversampled, y_train_minor_oversampled = resample(X_train_minor,y_train_minor,replace=True,n_samples=3*(df_minority.shape[0]),random_state=42)\n",
        "\n",
        "train_undersampled = pd.concat([X_train_major,y_train_major],axis=1).sample(n=10000, random_state=42)\n",
        "X_train_major_undersampled = train_undersampled.drop('target', axis=1)\n",
        "y_train_major_undersampled = train_undersampled['target']\n",
        "\n",
        "\n",
        "X_train_resampled = pd.concat([X_train_minor_oversampled, X_train_major_undersampled])\n",
        "y_train_resampled = pd.concat([y_train_minor_oversampled, y_train_major_undersampled])"
      ],
      "metadata": {
        "id": "-K4csjV87mgU"
      },
      "execution_count": 182,
      "outputs": []
    },
    {
      "cell_type": "code",
      "source": [
        "model_pipeline.fit(X_train_resampled, y_train_resampled)\n",
        "y_pred = model_pipeline.predict(X_test)\n",
        "\n",
        "accuracy = accuracy_score(y_test, y_pred)\n",
        "conf_matrix = confusion_matrix(y_test, y_pred)\n",
        "class_report = classification_report(y_test, y_pred)\n",
        "\n",
        "print(f\"Accuracy: {accuracy:.4f}\")\n",
        "print(\"\\nClassification Report:\")\n",
        "print(class_report)\n",
        "plt.figure(figsize=(4, 3))\n",
        "sns.heatmap(conf_matrix, annot=True, fmt='d', cmap='Blues', cbar=False)\n",
        "plt.xlabel('Predicted Label')\n",
        "plt.ylabel('True Label')\n",
        "plt.title('Confusion Matrix')\n",
        "plt.show()"
      ],
      "metadata": {
        "colab": {
          "base_uri": "https://localhost:8080/",
          "height": 0
        },
        "id": "OPxJMPSN78o7",
        "outputId": "dfde72d6-5f8a-41a7-e26b-5c64d3764709"
      },
      "execution_count": 183,
      "outputs": [
        {
          "output_type": "stream",
          "name": "stdout",
          "text": [
            "Accuracy: 0.9812\n",
            "\n",
            "Classification Report:\n",
            "              precision    recall  f1-score   support\n",
            "\n",
            "           0       1.00      0.98      0.99     80133\n",
            "           1       0.02      0.41      0.04        79\n",
            "\n",
            "    accuracy                           0.98     80212\n",
            "   macro avg       0.51      0.69      0.52     80212\n",
            "weighted avg       1.00      0.98      0.99     80212\n",
            "\n"
          ]
        },
        {
          "output_type": "display_data",
          "data": {
            "text/plain": [
              "<Figure size 400x300 with 1 Axes>"
            ],
            "image/png": "[encoded data removed]"
          },
          "metadata": {}
        }
      ]
    },
    {
      "cell_type": "markdown",
      "source": [
        "# random forest classifier"
      ],
      "metadata": {
        "id": "kYRa5ySqDrCY"
      }
    },
    {
      "cell_type": "code",
      "source": [
        "X = data_balanced.drop('target', axis=1)\n",
        "y = data_balanced['target']"
      ],
      "metadata": {
        "id": "1QpHSBKthYMS"
      },
      "execution_count": 184,
      "outputs": []
    },
    {
      "cell_type": "code",
      "source": [
        "from sklearn.ensemble import RandomForestClassifier\n",
        "model_pipeline = Pipeline(\n",
        "    steps=[('preprocessor', preprocessor),\n",
        "           ('classifier',RandomForestClassifier(random_state=42, n_jobs=-1))]\n",
        ")"
      ],
      "metadata": {
        "id": "yd4a3VXRITjm"
      },
      "execution_count": 185,
      "outputs": []
    },
    {
      "cell_type": "markdown",
      "source": [
        "## model_training"
      ],
      "metadata": {
        "id": "WBZXNb2oIiWq"
      }
    },
    {
      "cell_type": "markdown",
      "source": [
        "## without sampling"
      ],
      "metadata": {
        "id": "c_uDePPbIkbH"
      }
    },
    {
      "cell_type": "code",
      "source": [
        "X_train, X_test, y_train, y_test = train_test_split(X, y, test_size=0.2, random_state=42, stratify=y)\n",
        "\n",
        "model_pipeline.fit(X_train, y_train)\n",
        "y_pred = model_pipeline.predict(X_test)\n",
        "\n",
        "# Evaluate the model\n",
        "accuracy = accuracy_score(y_test, y_pred)\n",
        "conf_matrix = confusion_matrix(y_test, y_pred)\n",
        "class_report = classification_report(y_test, y_pred)\n",
        "\n",
        "print(f\"Accuracy: {accuracy:.4f}\")\n",
        "print(\"\\nClassification Report:\",class_report)\n",
        "plt.figure(figsize=(4, 3))\n",
        "sns.heatmap(conf_matrix, annot=True, fmt='d', cmap='Blues', cbar=False)\n",
        "plt.xlabel('Predicted Label')\n",
        "plt.ylabel('True Label')\n",
        "plt.title('Confusion Matrix')\n",
        "plt.show()"
      ],
      "metadata": {
        "colab": {
          "base_uri": "https://localhost:8080/",
          "height": 0
        },
        "id": "X7_CAB3IInsf",
        "outputId": "0cd80a7e-7135-4355-d2e6-83f634e97c65"
      },
      "execution_count": 186,
      "outputs": [
        {
          "output_type": "stream",
          "name": "stdout",
          "text": [
            "Accuracy: 0.9990\n",
            "\n",
            "Classification Report:               precision    recall  f1-score   support\n",
            "\n",
            "           0       1.00      1.00      1.00     80133\n",
            "           1       0.00      0.00      0.00        79\n",
            "\n",
            "    accuracy                           1.00     80212\n",
            "   macro avg       0.50      0.50      0.50     80212\n",
            "weighted avg       1.00      1.00      1.00     80212\n",
            "\n"
          ]
        },
        {
          "output_type": "display_data",
          "data": {
            "text/plain": [
              "<Figure size 400x300 with 1 Axes>"
            ],
            "image/png": "[encoded data removed]"
          },
          "metadata": {}
        }
      ]
    },
    {
      "cell_type": "markdown",
      "source": [
        "## sample 1"
      ],
      "metadata": {
        "id": "cBHI4oD3KeWD"
      }
    },
    {
      "cell_type": "code",
      "source": [
        "model_pipeline = Pipeline(\n",
        "    steps=[('preprocessor', preprocessor),\n",
        "           ('classifier',RandomForestClassifier(random_state=42, n_jobs=-1))]\n",
        ")\n",
        "id(model_pipeline)"
      ],
      "metadata": {
        "colab": {
          "base_uri": "https://localhost:8080/"
        },
        "id": "6C38BUdq9PJH",
        "outputId": "23421404-1e93-4b72-e2b2-101540c1a7a3"
      },
      "execution_count": 187,
      "outputs": [
        {
          "output_type": "execute_result",
          "data": {
            "text/plain": [
              "140700331029008"
            ]
          },
          "metadata": {},
          "execution_count": 187
        }
      ]
    },
    {
      "cell_type": "code",
      "source": [
        "from sklearn.utils import resample\n",
        "from sklearn.model_selection import train_test_split\n",
        "\n",
        "X = data_balanced.drop('target', axis=1)\n",
        "y = data_balanced['target']\n",
        "X_train, X_test, y_train, y_test = train_test_split(X, y, test_size=0.2, random_state=42, stratify=y)\n",
        "\n",
        "X_train_major = X_train[y_train == 0]\n",
        "X_train_minor = X_train[y_train == 1]\n",
        "y_train_major = y_train[y_train == 0]\n",
        "y_train_minor = y_train[y_train == 1]\n",
        "\n",
        "X_train_minor_oversampled, y_train_minor_oversampled = resample(X_train_minor,y_train_minor,replace=True,n_samples=10000,random_state=42)\n",
        "\n",
        "train_undersampled = pd.concat([X_train_major,y_train_major],axis=1).sample(n=10000, random_state=42)\n",
        "X_train_major_undersampled = train_undersampled.drop('target', axis=1)\n",
        "y_train_major_undersampled = train_undersampled['target']\n",
        "\n",
        "\n",
        "X_train_resampled = pd.concat([X_train_minor_oversampled, X_train_major_undersampled])\n",
        "y_train_resampled = pd.concat([y_train_minor_oversampled, y_train_major_undersampled])"
      ],
      "metadata": {
        "id": "uLrxst5-KhpC"
      },
      "execution_count": 188,
      "outputs": []
    },
    {
      "cell_type": "code",
      "source": [
        "model_pipeline.fit(X_train_resampled, y_train_resampled)\n",
        "y_pred = model_pipeline.predict(X_test)\n",
        "\n",
        "accuracy = accuracy_score(y_test, y_pred)\n",
        "conf_matrix = confusion_matrix(y_test, y_pred)\n",
        "class_report = classification_report(y_test, y_pred)\n",
        "\n",
        "print(f\"Accuracy: {accuracy:.4f}\")\n",
        "print(\"\\nClassification Report:\")\n",
        "print(class_report)\n",
        "plt.figure(figsize=(4, 3))\n",
        "sns.heatmap(conf_matrix, annot=True, fmt='d', cmap='Blues', cbar=False)\n",
        "plt.xlabel('Predicted Label')\n",
        "plt.ylabel('True Label')\n",
        "plt.title('Confusion Matrix')\n",
        "plt.show()"
      ],
      "metadata": {
        "colab": {
          "base_uri": "https://localhost:8080/",
          "height": 0
        },
        "id": "VvE8dmQYKv2O",
        "outputId": "a2a81ad7-c2d8-4f07-ce7e-7c051ebda991"
      },
      "execution_count": 189,
      "outputs": [
        {
          "output_type": "stream",
          "name": "stdout",
          "text": [
            "Accuracy: 0.9947\n",
            "\n",
            "Classification Report:\n",
            "              precision    recall  f1-score   support\n",
            "\n",
            "           0       1.00      1.00      1.00     80133\n",
            "           1       0.07      0.35      0.12        79\n",
            "\n",
            "    accuracy                           0.99     80212\n",
            "   macro avg       0.53      0.67      0.56     80212\n",
            "weighted avg       1.00      0.99      1.00     80212\n",
            "\n"
          ]
        },
        {
          "output_type": "display_data",
          "data": {
            "text/plain": [
              "<Figure size 400x300 with 1 Axes>"
            ],
            "image/png": "[encoded data removed]"
          },
          "metadata": {}
        }
      ]
    },
    {
      "cell_type": "markdown",
      "source": [
        "## sample 2"
      ],
      "metadata": {
        "id": "FNr9x-E5MHKX"
      }
    },
    {
      "cell_type": "code",
      "source": [
        "model_pipeline = Pipeline(\n",
        "    steps=[('preprocessor', preprocessor),\n",
        "           ('classifier',RandomForestClassifier(random_state=42, n_jobs=-1))]\n",
        ")\n",
        "id(model_pipeline)"
      ],
      "metadata": {
        "colab": {
          "base_uri": "https://localhost:8080/"
        },
        "id": "2RKKVvPV9ThA",
        "outputId": "1bb447e4-a458-4761-cb4b-56af09108632"
      },
      "execution_count": 190,
      "outputs": [
        {
          "output_type": "execute_result",
          "data": {
            "text/plain": [
              "140700331866960"
            ]
          },
          "metadata": {},
          "execution_count": 190
        }
      ]
    },
    {
      "cell_type": "code",
      "source": [
        "# Stratified sampling\n",
        "from sklearn.model_selection import train_test_split\n",
        "df_majority_stratified = df_majority.sample(n=len(df_minority), random_state=42)\n",
        "\n",
        "data_stratified = pd.concat([\n",
        "    df_majority_stratified,\n",
        "    df_minority\n",
        "])\n",
        "\n",
        "X = data_stratified.drop('target', axis=1)\n",
        "y = data_stratified['target']"
      ],
      "metadata": {
        "id": "b6KRdSGVMJRo"
      },
      "execution_count": 191,
      "outputs": []
    },
    {
      "cell_type": "code",
      "source": [
        "# Split the data into training and testing sets\n",
        "X_train, X_test, y_train, y_test = train_test_split(X, y, test_size=0.2, random_state=42, stratify=y)\n",
        "\n",
        "model_pipeline.fit(X_train, y_train)\n",
        "y_pred = model_pipeline.predict(X_test)\n",
        "\n",
        "# Evaluate the model\n",
        "accuracy = accuracy_score(y_test, y_pred)\n",
        "conf_matrix = confusion_matrix(y_test, y_pred)\n",
        "class_report = classification_report(y_test, y_pred)\n",
        "\n",
        "print(f\"Accuracy: {accuracy:.4f}\")\n",
        "print(\"\\nClassification Report:\",class_report)\n",
        "plt.figure(figsize=(4, 3))\n",
        "sns.heatmap(conf_matrix, annot=True, fmt='d', cmap='Blues', cbar=False)\n",
        "plt.xlabel('Predicted Label')\n",
        "plt.ylabel('True Label')\n",
        "plt.title('Confusion Matrix')\n",
        "plt.show()"
      ],
      "metadata": {
        "colab": {
          "base_uri": "https://localhost:8080/",
          "height": 0
        },
        "id": "o67Oe-tnMOov",
        "outputId": "4c789186-1a09-45a6-f293-83d0fc5a7d3c"
      },
      "execution_count": 192,
      "outputs": [
        {
          "output_type": "stream",
          "name": "stdout",
          "text": [
            "Accuracy: 0.8987\n",
            "\n",
            "Classification Report:               precision    recall  f1-score   support\n",
            "\n",
            "           0       0.89      0.91      0.90        79\n",
            "           1       0.91      0.89      0.90        79\n",
            "\n",
            "    accuracy                           0.90       158\n",
            "   macro avg       0.90      0.90      0.90       158\n",
            "weighted avg       0.90      0.90      0.90       158\n",
            "\n"
          ]
        },
        {
          "output_type": "display_data",
          "data": {
            "text/plain": [
              "<Figure size 400x300 with 1 Axes>"
            ],
            "image/png": "[encoded data removed]"
          },
          "metadata": {}
        }
      ]
    },
    {
      "cell_type": "markdown",
      "source": [
        "## sample 3"
      ],
      "metadata": {
        "id": "YITR8W0Cg8TH"
      }
    },
    {
      "cell_type": "code",
      "source": [
        "model_pipeline = Pipeline(\n",
        "    steps=[('preprocessor', preprocessor),\n",
        "           ('classifier',RandomForestClassifier(random_state=42, n_jobs=-1))]\n",
        ")\n",
        "id(model_pipeline)"
      ],
      "metadata": {
        "colab": {
          "base_uri": "https://localhost:8080/"
        },
        "id": "mzsCB1pn9iSS",
        "outputId": "0838cb3a-6943-4075-cd05-6ee483f322e8"
      },
      "execution_count": 193,
      "outputs": [
        {
          "output_type": "execute_result",
          "data": {
            "text/plain": [
              "140700749397520"
            ]
          },
          "metadata": {},
          "execution_count": 193
        }
      ]
    },
    {
      "cell_type": "code",
      "source": [
        "from sklearn.utils import resample\n",
        "from sklearn.model_selection import train_test_split\n",
        "\n",
        "X = data_balanced.drop('target', axis=1)\n",
        "y = data_balanced['target']\n",
        "X_train, X_test, y_train, y_test = train_test_split(X, y, test_size=0.2, random_state=42, stratify=y)\n",
        "\n",
        "X_train_major = X_train[y_train == 0]\n",
        "X_train_minor = X_train[y_train == 1]\n",
        "y_train_major = y_train[y_train == 0]\n",
        "y_train_minor = y_train[y_train == 1]\n",
        "\n",
        "X_train_minor_oversampled, y_train_minor_oversampled = resample(X_train_minor,y_train_minor,replace=True,n_samples=10000,random_state=42)\n",
        "\n",
        "train_undersampled = pd.concat([X_train_major,y_train_major],axis=1).sample(n=10000, random_state=42)\n",
        "X_train_major_undersampled = train_undersampled.drop('target', axis=1)\n",
        "y_train_major_undersampled = train_undersampled['target']\n",
        "\n",
        "\n",
        "X_train_resampled = pd.concat([X_train_minor_oversampled, X_train_major_undersampled])\n",
        "y_train_resampled = pd.concat([y_train_minor_oversampled, y_train_major_undersampled])"
      ],
      "metadata": {
        "id": "qfNhsrcp9lrr"
      },
      "execution_count": 194,
      "outputs": []
    },
    {
      "cell_type": "code",
      "source": [
        "model_pipeline.fit(X_train_resampled, y_train_resampled)\n",
        "y_pred = model_pipeline.predict(X_test)\n",
        "\n",
        "accuracy = accuracy_score(y_test, y_pred)\n",
        "conf_matrix = confusion_matrix(y_test, y_pred)\n",
        "class_report = classification_report(y_test, y_pred)\n",
        "\n",
        "print(f\"Accuracy: {accuracy:.4f}\")\n",
        "print(\"\\nClassification Report:\")\n",
        "print(class_report)\n",
        "plt.figure(figsize=(4, 3))\n",
        "sns.heatmap(conf_matrix, annot=True, fmt='d', cmap='Blues', cbar=False)\n",
        "plt.xlabel('Predicted Label')\n",
        "plt.ylabel('True Label')\n",
        "plt.title('Confusion Matrix')\n",
        "plt.show()"
      ],
      "metadata": {
        "colab": {
          "base_uri": "https://localhost:8080/",
          "height": 0
        },
        "id": "31bhY8ZmMcxL",
        "outputId": "37557367-0558-4904-d5e1-35fc40291aab"
      },
      "execution_count": 195,
      "outputs": [
        {
          "output_type": "stream",
          "name": "stdout",
          "text": [
            "Accuracy: 0.9947\n",
            "\n",
            "Classification Report:\n",
            "              precision    recall  f1-score   support\n",
            "\n",
            "           0       1.00      1.00      1.00     80133\n",
            "           1       0.07      0.35      0.12        79\n",
            "\n",
            "    accuracy                           0.99     80212\n",
            "   macro avg       0.53      0.67      0.56     80212\n",
            "weighted avg       1.00      0.99      1.00     80212\n",
            "\n"
          ]
        },
        {
          "output_type": "display_data",
          "data": {
            "text/plain": [
              "<Figure size 400x300 with 1 Axes>"
            ],
            "image/png": "[encoded data removed]"
          },
          "metadata": {}
        }
      ]
    },
    {
      "cell_type": "markdown",
      "source": [
        "# xg boost"
      ],
      "metadata": {
        "id": "_m8GR_iobXaJ"
      }
    },
    {
      "cell_type": "code",
      "source": [
        "X = data_balanced.drop('target', axis=1)\n",
        "y = data_balanced['target']"
      ],
      "metadata": {
        "id": "-AHx1CPFbpHq"
      },
      "execution_count": 196,
      "outputs": []
    },
    {
      "cell_type": "code",
      "source": [
        "import xgboost as xgb\n",
        "model_pipeline = Pipeline(\n",
        "    steps=[('preprocessor', preprocessor),\n",
        "           ('classifier', xgb.XGBClassifier(random_state=42, use_label_encoder=False, eval_metric='logloss'))]\n",
        ")"
      ],
      "metadata": {
        "id": "eLFrgnRFbSRQ"
      },
      "execution_count": 197,
      "outputs": []
    },
    {
      "cell_type": "code",
      "source": [
        "X_train, X_test, y_train, y_test = train_test_split(X, y, test_size=0.2, random_state=42, stratify=y)\n",
        "\n",
        "model_pipeline.fit(X_train, y_train)\n",
        "y_pred = model_pipeline.predict(X_test)\n",
        "\n",
        "# Evaluate the model\n",
        "accuracy = accuracy_score(y_test, y_pred)\n",
        "conf_matrix = confusion_matrix(y_test, y_pred)\n",
        "class_report = classification_report(y_test, y_pred)\n",
        "\n",
        "print(f\"Accuracy: {accuracy:.4f}\")\n",
        "print(\"\\nClassification Report:\",class_report)\n",
        "plt.figure(figsize=(4, 3))\n",
        "sns.heatmap(conf_matrix, annot=True, fmt='d', cmap='Blues', cbar=False)\n",
        "plt.xlabel('Predicted Label')\n",
        "plt.ylabel('True Label')\n",
        "plt.title('Confusion Matrix')\n",
        "plt.show()"
      ],
      "metadata": {
        "colab": {
          "base_uri": "https://localhost:8080/",
          "height": 524
        },
        "id": "8CgGQ4hqbyT7",
        "outputId": "67f2f351-53ad-437d-f215-84696ca4b3d0"
      },
      "execution_count": 198,
      "outputs": [
        {
          "output_type": "stream",
          "name": "stdout",
          "text": [
            "Accuracy: 0.9990\n",
            "\n",
            "Classification Report:               precision    recall  f1-score   support\n",
            "\n",
            "           0       1.00      1.00      1.00     80133\n",
            "           1       0.00      0.00      0.00        79\n",
            "\n",
            "    accuracy                           1.00     80212\n",
            "   macro avg       0.50      0.50      0.50     80212\n",
            "weighted avg       1.00      1.00      1.00     80212\n",
            "\n"
          ]
        },
        {
          "output_type": "display_data",
          "data": {
            "text/plain": [
              "<Figure size 400x300 with 1 Axes>"
            ],
            "image/png": "[encoded data removed]"
          },
          "metadata": {}
        }
      ]
    },
    {
      "cell_type": "markdown",
      "source": [
        "## sample 1"
      ],
      "metadata": {
        "id": "mRuaCqHVcHAp"
      }
    },
    {
      "cell_type": "code",
      "source": [
        "model_pipeline = Pipeline(\n",
        "    steps=[('preprocessor', preprocessor),\n",
        "           ('classifier', xgb.XGBClassifier(random_state=42, use_label_encoder=False, eval_metric='logloss'))]\n",
        ")\n",
        "id(model_pipeline)"
      ],
      "metadata": {
        "colab": {
          "base_uri": "https://localhost:8080/"
        },
        "id": "s6dIViCF9ueo",
        "outputId": "fea41203-bdff-4ea6-f669-bfff3a36082b"
      },
      "execution_count": 199,
      "outputs": [
        {
          "output_type": "execute_result",
          "data": {
            "text/plain": [
              "140700187960720"
            ]
          },
          "metadata": {},
          "execution_count": 199
        }
      ]
    },
    {
      "cell_type": "code",
      "source": [
        "from sklearn.utils import resample\n",
        "from sklearn.model_selection import train_test_split\n",
        "\n",
        "X = data_balanced.drop('target', axis=1)\n",
        "y = data_balanced['target']\n",
        "X_train, X_test, y_train, y_test = train_test_split(X, y, test_size=0.2, random_state=42, stratify=y)\n",
        "\n",
        "X_train_major = X_train[y_train == 0]\n",
        "X_train_minor = X_train[y_train == 1]\n",
        "y_train_major = y_train[y_train == 0]\n",
        "y_train_minor = y_train[y_train == 1]\n",
        "\n",
        "X_train_minor_oversampled, y_train_minor_oversampled = resample(X_train_minor,y_train_minor,replace=True,n_samples=10000,random_state=42)\n",
        "\n",
        "train_undersampled = pd.concat([X_train_major,y_train_major],axis=1).sample(n=10000, random_state=42)\n",
        "X_train_major_undersampled = train_undersampled.drop('target', axis=1)\n",
        "y_train_major_undersampled = train_undersampled['target']\n",
        "\n",
        "\n",
        "X_train_resampled = pd.concat([X_train_minor_oversampled, X_train_major_undersampled])\n",
        "y_train_resampled = pd.concat([y_train_minor_oversampled, y_train_major_undersampled])"
      ],
      "metadata": {
        "id": "I_ThMFfyb8ln"
      },
      "execution_count": 200,
      "outputs": []
    },
    {
      "cell_type": "code",
      "source": [
        "model_pipeline.fit(X_train_resampled, y_train_resampled)\n",
        "y_pred = model_pipeline.predict(X_test)\n",
        "\n",
        "accuracy = accuracy_score(y_test, y_pred)\n",
        "conf_matrix = confusion_matrix(y_test, y_pred)\n",
        "class_report = classification_report(y_test, y_pred)\n",
        "\n",
        "print(f\"Accuracy: {accuracy:.4f}\")\n",
        "print(\"\\nClassification Report:\")\n",
        "print(class_report)\n",
        "plt.figure(figsize=(4, 3))\n",
        "sns.heatmap(conf_matrix, annot=True, fmt='d', cmap='Blues', cbar=False)\n",
        "plt.xlabel('Predicted Label')\n",
        "plt.ylabel('True Label')\n",
        "plt.title('Confusion Matrix')\n",
        "plt.show()"
      ],
      "metadata": {
        "colab": {
          "base_uri": "https://localhost:8080/",
          "height": 0
        },
        "id": "xT9gzSMOcVt3",
        "outputId": "3d398c1c-a8cb-4c03-e0ee-a9b8e09c94d6"
      },
      "execution_count": 201,
      "outputs": [
        {
          "output_type": "stream",
          "name": "stdout",
          "text": [
            "Accuracy: 0.9883\n",
            "\n",
            "Classification Report:\n",
            "              precision    recall  f1-score   support\n",
            "\n",
            "           0       1.00      0.99      0.99     80133\n",
            "           1       0.04      0.42      0.07        79\n",
            "\n",
            "    accuracy                           0.99     80212\n",
            "   macro avg       0.52      0.70      0.53     80212\n",
            "weighted avg       1.00      0.99      0.99     80212\n",
            "\n"
          ]
        },
        {
          "output_type": "display_data",
          "data": {
            "text/plain": [
              "<Figure size 400x300 with 1 Axes>"
            ],
            "image/png": "[encoded data removed]"
          },
          "metadata": {}
        }
      ]
    },
    {
      "cell_type": "markdown",
      "source": [
        "## sample 2"
      ],
      "metadata": {
        "id": "ivg4BZHXcwrD"
      }
    },
    {
      "cell_type": "code",
      "source": [
        "model_pipeline = Pipeline(\n",
        "    steps=[('preprocessor', preprocessor),\n",
        "           ('classifier', xgb.XGBClassifier(random_state=42, use_label_encoder=False, eval_metric='logloss'))]\n",
        ")\n",
        "id(model_pipeline)"
      ],
      "metadata": {
        "colab": {
          "base_uri": "https://localhost:8080/"
        },
        "id": "GnKhik0i9yAZ",
        "outputId": "936a4026-5abc-403c-bb27-ea726ab1f2f2"
      },
      "execution_count": 202,
      "outputs": [
        {
          "output_type": "execute_result",
          "data": {
            "text/plain": [
              "140699842961360"
            ]
          },
          "metadata": {},
          "execution_count": 202
        }
      ]
    },
    {
      "cell_type": "code",
      "source": [
        "# Stratified sampling\n",
        "from sklearn.model_selection import train_test_split\n",
        "df_majority_stratified = df_majority.sample(n=len(df_minority), random_state=42)\n",
        "\n",
        "data_stratified = pd.concat([\n",
        "    df_majority_stratified,\n",
        "    df_minority\n",
        "])\n",
        "\n",
        "X = data_stratified.drop('target', axis=1)\n",
        "y = data_stratified['target']"
      ],
      "metadata": {
        "id": "nafWZdPpcdkc"
      },
      "execution_count": 203,
      "outputs": []
    },
    {
      "cell_type": "code",
      "source": [
        "# Split the data into training and testing sets\n",
        "X_train, X_test, y_train, y_test = train_test_split(X, y, test_size=0.2, random_state=42, stratify=y)\n",
        "\n",
        "model_pipeline.fit(X_train, y_train)\n",
        "y_pred = model_pipeline.predict(X_test)\n",
        "\n",
        "# Evaluate the model\n",
        "accuracy = accuracy_score(y_test, y_pred)\n",
        "conf_matrix = confusion_matrix(y_test, y_pred)\n",
        "class_report = classification_report(y_test, y_pred)\n",
        "\n",
        "print(f\"Accuracy: {accuracy:.4f}\")\n",
        "print(\"\\nClassification Report:\",class_report)\n",
        "plt.figure(figsize=(4, 3))\n",
        "sns.heatmap(conf_matrix, annot=True, fmt='d', cmap='Blues', cbar=False)\n",
        "plt.xlabel('Predicted Label')\n",
        "plt.ylabel('True Label')\n",
        "plt.title('Confusion Matrix')\n",
        "plt.show()"
      ],
      "metadata": {
        "colab": {
          "base_uri": "https://localhost:8080/",
          "height": 0
        },
        "id": "z80rsZfXcv7m",
        "outputId": "0f340903-33af-4b3c-cc42-25f228ef251f"
      },
      "execution_count": 204,
      "outputs": [
        {
          "output_type": "stream",
          "name": "stdout",
          "text": [
            "Accuracy: 0.8671\n",
            "\n",
            "Classification Report:               precision    recall  f1-score   support\n",
            "\n",
            "           0       0.84      0.91      0.87        79\n",
            "           1       0.90      0.82      0.86        79\n",
            "\n",
            "    accuracy                           0.87       158\n",
            "   macro avg       0.87      0.87      0.87       158\n",
            "weighted avg       0.87      0.87      0.87       158\n",
            "\n"
          ]
        },
        {
          "output_type": "display_data",
          "data": {
            "text/plain": [
              "<Figure size 400x300 with 1 Axes>"
            ],
            "image/png": "[encoded data removed]"
          },
          "metadata": {}
        }
      ]
    },
    {
      "cell_type": "markdown",
      "source": [
        "## sample 3"
      ],
      "metadata": {
        "id": "_VYy_bCedG42"
      }
    },
    {
      "cell_type": "code",
      "source": [
        "model_pipeline = Pipeline(\n",
        "    steps=[('preprocessor', preprocessor),\n",
        "           ('classifier', xgb.XGBClassifier(random_state=42, use_label_encoder=False, eval_metric='logloss'))]\n",
        ")\n",
        "id(model_pipeline)"
      ],
      "metadata": {
        "colab": {
          "base_uri": "https://localhost:8080/"
        },
        "id": "-oGPPzsw9zOO",
        "outputId": "68fe1b86-2f51-4ab6-c9bd-169596339cf6"
      },
      "execution_count": 205,
      "outputs": [
        {
          "output_type": "execute_result",
          "data": {
            "text/plain": [
              "140700188381776"
            ]
          },
          "metadata": {},
          "execution_count": 205
        }
      ]
    },
    {
      "cell_type": "code",
      "source": [
        "from sklearn.utils import resample\n",
        "from sklearn.model_selection import train_test_split\n",
        "\n",
        "X = data_balanced.drop('target', axis=1)\n",
        "y = data_balanced['target']\n",
        "X_train, X_test, y_train, y_test = train_test_split(X, y, test_size=0.2, random_state=42, stratify=y)\n",
        "\n",
        "X_train_major = X_train[y_train == 0]\n",
        "X_train_minor = X_train[y_train == 1]\n",
        "y_train_major = y_train[y_train == 0]\n",
        "y_train_minor = y_train[y_train == 1]\n",
        "\n",
        "X_train_minor_oversampled, y_train_minor_oversampled = resample(X_train_minor,y_train_minor,replace=True,n_samples=10000,random_state=42)\n",
        "\n",
        "train_undersampled = pd.concat([X_train_major,y_train_major],axis=1).sample(n=10000, random_state=42)\n",
        "X_train_major_undersampled = train_undersampled.drop('target', axis=1)\n",
        "y_train_major_undersampled = train_undersampled['target']\n",
        "\n",
        "\n",
        "X_train_resampled = pd.concat([X_train_minor_oversampled, X_train_major_undersampled])\n",
        "y_train_resampled = pd.concat([y_train_minor_oversampled, y_train_major_undersampled])"
      ],
      "metadata": {
        "id": "_VLQWOt799Cb"
      },
      "execution_count": 206,
      "outputs": []
    },
    {
      "cell_type": "code",
      "source": [
        "model_pipeline.fit(X_train_resampled, y_train_resampled)\n",
        "y_pred = model_pipeline.predict(X_test)\n",
        "\n",
        "accuracy = accuracy_score(y_test, y_pred)\n",
        "conf_matrix = confusion_matrix(y_test, y_pred)\n",
        "class_report = classification_report(y_test, y_pred)\n",
        "\n",
        "print(f\"Accuracy: {accuracy:.4f}\")\n",
        "print(\"\\nClassification Report:\")\n",
        "print(class_report)\n",
        "plt.figure(figsize=(4, 3))\n",
        "sns.heatmap(conf_matrix, annot=True, fmt='d', cmap='Blues', cbar=False)\n",
        "plt.xlabel('Predicted Label')\n",
        "plt.ylabel('True Label')\n",
        "plt.title('Confusion Matrix')\n",
        "plt.show()"
      ],
      "metadata": {
        "colab": {
          "base_uri": "https://localhost:8080/",
          "height": 541
        },
        "id": "uRCFNX_rc2x7",
        "outputId": "d6071b99-5d5a-4985-f920-12a6aec71bc8"
      },
      "execution_count": 207,
      "outputs": [
        {
          "output_type": "stream",
          "name": "stdout",
          "text": [
            "Accuracy: 0.9883\n",
            "\n",
            "Classification Report:\n",
            "              precision    recall  f1-score   support\n",
            "\n",
            "           0       1.00      0.99      0.99     80133\n",
            "           1       0.04      0.42      0.07        79\n",
            "\n",
            "    accuracy                           0.99     80212\n",
            "   macro avg       0.52      0.70      0.53     80212\n",
            "weighted avg       1.00      0.99      0.99     80212\n",
            "\n"
          ]
        },
        {
          "output_type": "display_data",
          "data": {
            "text/plain": [
              "<Figure size 400x300 with 1 Axes>"
            ],
            "image/png": "[encoded data removed]"
          },
          "metadata": {}
        }
      ]
    },
    {
      "cell_type": "markdown",
      "source": [
        "# ensemble learning"
      ],
      "metadata": {
        "id": "kZ4nWo5UejCG"
      }
    },
    {
      "cell_type": "code",
      "source": [
        "X = data_balanced.drop('target', axis=1)\n",
        "y = data_balanced['target']"
      ],
      "metadata": {
        "id": "rE37QeVAhWP-"
      },
      "execution_count": 208,
      "outputs": []
    },
    {
      "cell_type": "code",
      "source": [
        "from sklearn.ensemble import RandomForestClassifier\n",
        "import xgboost as xgb\n",
        "from sklearn.linear_model import LogisticRegression\n",
        "model_pipeline_lr = Pipeline(\n",
        "    steps=[('preprocessor', preprocessor),\n",
        "           ('classifier', LogisticRegression(random_state=42, solver='liblinear'))]\n",
        ")\n",
        "\n",
        "model_pipeline_rf = Pipeline(\n",
        "    steps=[('preprocessor', preprocessor),\n",
        "           ('classifier',RandomForestClassifier(random_state=42, n_jobs=-1))]\n",
        ")\n",
        "\n",
        "model_pipeline_xgb = Pipeline(\n",
        "    steps=[('preprocessor', preprocessor),\n",
        "           ('classifier', xgb.XGBClassifier(random_state=42, use_label_encoder=False, eval_metric='logloss'))]\n",
        ")"
      ],
      "metadata": {
        "id": "1h2N8helgetW"
      },
      "execution_count": 209,
      "outputs": []
    },
    {
      "cell_type": "code",
      "source": [
        "from sklearn.ensemble import VotingClassifier\n",
        "ensemble_model_pipeline = VotingClassifier(estimators=[('lr', model_pipeline_lr), ('rf', model_pipeline_rf), ('xgb', model_pipeline_xgb)], voting='soft') # Use 'soft' for probability voting"
      ],
      "metadata": {
        "id": "0g-Lllyic_WE"
      },
      "execution_count": 210,
      "outputs": []
    },
    {
      "cell_type": "code",
      "source": [
        "X_train, X_test, y_train, y_test = train_test_split(X, y, test_size=0.2, random_state=42, stratify=y)\n",
        "\n",
        "ensemble_model_pipeline.fit(X_train, y_train)\n",
        "y_pred = ensemble_model_pipeline.predict(X_test)\n",
        "\n",
        "# Evaluate the model\n",
        "accuracy = accuracy_score(y_test, y_pred)\n",
        "conf_matrix = confusion_matrix(y_test, y_pred)\n",
        "class_report = classification_report(y_test, y_pred)\n",
        "\n",
        "print(f\"Accuracy: {accuracy:.4f}\")\n",
        "print(\"\\nClassification Report:\",class_report)\n",
        "plt.figure(figsize=(4, 3))\n",
        "sns.heatmap(conf_matrix, annot=True, fmt='d', cmap='Blues', cbar=False)\n",
        "plt.xlabel('Predicted Label')\n",
        "plt.ylabel('True Label')\n",
        "plt.title('Confusion Matrix')\n",
        "plt.show()"
      ],
      "metadata": {
        "colab": {
          "base_uri": "https://localhost:8080/",
          "height": 524
        },
        "id": "T5y1wXy9iHVA",
        "outputId": "2542a9e5-ef02-4e6b-b37d-b887fa2d37c5"
      },
      "execution_count": 211,
      "outputs": [
        {
          "output_type": "stream",
          "name": "stdout",
          "text": [
            "Accuracy: 0.9990\n",
            "\n",
            "Classification Report:               precision    recall  f1-score   support\n",
            "\n",
            "           0       1.00      1.00      1.00     80133\n",
            "           1       0.00      0.00      0.00        79\n",
            "\n",
            "    accuracy                           1.00     80212\n",
            "   macro avg       0.50      0.50      0.50     80212\n",
            "weighted avg       1.00      1.00      1.00     80212\n",
            "\n"
          ]
        },
        {
          "output_type": "display_data",
          "data": {
            "text/plain": [
              "<Figure size 400x300 with 1 Axes>"
            ],
            "image/png": "[encoded data removed]"
          },
          "metadata": {}
        }
      ]
    },
    {
      "cell_type": "markdown",
      "source": [
        "## sample 1"
      ],
      "metadata": {
        "id": "y5v5uUCSeAjF"
      }
    },
    {
      "cell_type": "code",
      "source": [
        "from sklearn.utils import resample\n",
        "from sklearn.model_selection import train_test_split\n",
        "\n",
        "X = data_balanced.drop('target', axis=1)\n",
        "y = data_balanced['target']\n",
        "X_train, X_test, y_train, y_test = train_test_split(X, y, test_size=0.2, random_state=42, stratify=y)\n",
        "\n",
        "X_train_major = X_train[y_train == 0]\n",
        "X_train_minor = X_train[y_train == 1]\n",
        "y_train_major = y_train[y_train == 0]\n",
        "y_train_minor = y_train[y_train == 1]\n",
        "\n",
        "X_train_minor_oversampled, y_train_minor_oversampled = resample(X_train_minor,y_train_minor,replace=True,n_samples=10000,random_state=42)\n",
        "\n",
        "train_undersampled = pd.concat([X_train_major,y_train_major],axis=1).sample(n=10000, random_state=42)\n",
        "X_train_major_undersampled = train_undersampled.drop('target', axis=1)\n",
        "y_train_major_undersampled = train_undersampled['target']\n",
        "\n",
        "\n",
        "X_train_resampled = pd.concat([X_train_minor_oversampled, X_train_major_undersampled])\n",
        "y_train_resampled = pd.concat([y_train_minor_oversampled, y_train_major_undersampled])"
      ],
      "metadata": {
        "id": "qcXZD6yVklgL"
      },
      "execution_count": 212,
      "outputs": []
    },
    {
      "cell_type": "code",
      "source": [
        "ensemble_model_pipeline.fit(X_train_resampled, y_train_resampled)\n",
        "y_pred = ensemble_model_pipeline.predict(X_test)\n",
        "\n",
        "accuracy = accuracy_score(y_test, y_pred)\n",
        "conf_matrix = confusion_matrix(y_test, y_pred)\n",
        "class_report = classification_report(y_test, y_pred)\n",
        "\n",
        "print(f\"Accuracy: {accuracy:.4f}\")\n",
        "print(\"\\nClassification Report:\")\n",
        "print(class_report)\n",
        "plt.figure(figsize=(4, 3))\n",
        "sns.heatmap(conf_matrix, annot=True, fmt='d', cmap='Blues', cbar=False)\n",
        "plt.xlabel('Predicted Label')\n",
        "plt.ylabel('True Label')\n",
        "plt.title('Confusion Matrix')\n",
        "plt.show()"
      ],
      "metadata": {
        "colab": {
          "base_uri": "https://localhost:8080/",
          "height": 541
        },
        "id": "HiHI_nvfmJz1",
        "outputId": "157c5efc-9808-4f30-f97a-d21c9d95153c"
      },
      "execution_count": 213,
      "outputs": [
        {
          "output_type": "stream",
          "name": "stdout",
          "text": [
            "Accuracy: 0.9864\n",
            "\n",
            "Classification Report:\n",
            "              precision    recall  f1-score   support\n",
            "\n",
            "           0       1.00      0.99      0.99     80133\n",
            "           1       0.03      0.47      0.06        79\n",
            "\n",
            "    accuracy                           0.99     80212\n",
            "   macro avg       0.52      0.73      0.53     80212\n",
            "weighted avg       1.00      0.99      0.99     80212\n",
            "\n"
          ]
        },
        {
          "output_type": "display_data",
          "data": {
            "text/plain": [
              "<Figure size 400x300 with 1 Axes>"
            ],
            "image/png": "[encoded data removed]"
          },
          "metadata": {}
        }
      ]
    },
    {
      "cell_type": "markdown",
      "source": [
        "## sample 2"
      ],
      "metadata": {
        "id": "1BxAlatZnzg2"
      }
    },
    {
      "cell_type": "code",
      "source": [
        "model_pipeline_lr = Pipeline(\n",
        "    steps=[('preprocessor', preprocessor),\n",
        "           ('classifier', LogisticRegression(random_state=42, solver='liblinear'))]\n",
        ")\n",
        "\n",
        "model_pipeline_rf = Pipeline(\n",
        "    steps=[('preprocessor', preprocessor),\n",
        "           ('classifier',RandomForestClassifier(random_state=42, n_jobs=-1))]\n",
        ")\n",
        "\n",
        "model_pipeline_xgb = Pipeline(\n",
        "    steps=[('preprocessor', preprocessor),\n",
        "           ('classifier', xgb.XGBClassifier(random_state=42, use_label_encoder=False, eval_metric='logloss'))]\n",
        ")\n",
        "\n",
        "from sklearn.ensemble import VotingClassifier\n",
        "ensemble_model_pipeline = VotingClassifier(estimators=[('lr', model_pipeline_lr), ('rf', model_pipeline_rf), ('xgb', model_pipeline_xgb)], voting='soft') # Use 'soft' for probability voting"
      ],
      "metadata": {
        "id": "qKsBJ--lsMSB"
      },
      "execution_count": 214,
      "outputs": []
    },
    {
      "cell_type": "code",
      "source": [
        "from sklearn.model_selection import train_test_split\n",
        "df_majority_stratified = df_majority.sample(n=len(df_minority), random_state=42)\n",
        "\n",
        "data_stratified = pd.concat([\n",
        "    df_majority_stratified,\n",
        "    df_minority\n",
        "])\n",
        "\n",
        "X = data_stratified.drop('target', axis=1)\n",
        "y = data_stratified['target']"
      ],
      "metadata": {
        "id": "9o-Q4HV_meld"
      },
      "execution_count": 215,
      "outputs": []
    },
    {
      "cell_type": "code",
      "source": [
        "# Split the data into training and testing sets\n",
        "X_train, X_test, y_train, y_test = train_test_split(X, y, test_size=0.2, random_state=42, stratify=y)\n",
        "\n",
        "ensemble_model_pipeline.fit(X_train, y_train)\n",
        "y_pred = ensemble_model_pipeline.predict(X_test)\n",
        "\n",
        "# Evaluate the model\n",
        "accuracy = accuracy_score(y_test, y_pred)\n",
        "conf_matrix = confusion_matrix(y_test, y_pred)\n",
        "class_report = classification_report(y_test, y_pred)\n",
        "\n",
        "print(f\"Accuracy: {accuracy:.4f}\")\n",
        "print(\"\\nClassification Report:\",class_report)\n",
        "plt.figure(figsize=(4, 3))\n",
        "sns.heatmap(conf_matrix, annot=True, fmt='d', cmap='Blues', cbar=False)\n",
        "plt.xlabel('Predicted Label')\n",
        "plt.ylabel('True Label')\n",
        "plt.title('Confusion Matrix')\n",
        "plt.show()"
      ],
      "metadata": {
        "colab": {
          "base_uri": "https://localhost:8080/",
          "height": 524
        },
        "id": "gBkW1zXTn1gI",
        "outputId": "415b3056-b6e9-4a8a-f228-88218258d85b"
      },
      "execution_count": 216,
      "outputs": [
        {
          "output_type": "stream",
          "name": "stdout",
          "text": [
            "Accuracy: 0.8734\n",
            "\n",
            "Classification Report:               precision    recall  f1-score   support\n",
            "\n",
            "           0       0.85      0.91      0.88        79\n",
            "           1       0.90      0.84      0.87        79\n",
            "\n",
            "    accuracy                           0.87       158\n",
            "   macro avg       0.88      0.87      0.87       158\n",
            "weighted avg       0.88      0.87      0.87       158\n",
            "\n"
          ]
        },
        {
          "output_type": "display_data",
          "data": {
            "text/plain": [
              "<Figure size 400x300 with 1 Axes>"
            ],
            "image/png": "[encoded data removed]"
          },
          "metadata": {}
        }
      ]
    },
    {
      "cell_type": "markdown",
      "source": [
        "## sample 3"
      ],
      "metadata": {
        "id": "rZDq5wh1oIFF"
      }
    },
    {
      "cell_type": "code",
      "source": [
        "model_pipeline_lr = Pipeline(\n",
        "    steps=[('preprocessor', preprocessor),\n",
        "           ('classifier', LogisticRegression(random_state=42, solver='liblinear'))]\n",
        ")\n",
        "\n",
        "model_pipeline_rf = Pipeline(\n",
        "    steps=[('preprocessor', preprocessor),\n",
        "           ('classifier',RandomForestClassifier(random_state=42, n_jobs=-1))]\n",
        ")\n",
        "\n",
        "model_pipeline_xgb = Pipeline(\n",
        "    steps=[('preprocessor', preprocessor),\n",
        "           ('classifier', xgb.XGBClassifier(random_state=42, use_label_encoder=False, eval_metric='logloss'))]\n",
        ")\n",
        "\n",
        "from sklearn.ensemble import VotingClassifier\n",
        "ensemble_model_pipeline = VotingClassifier(estimators=[('lr', model_pipeline_lr), ('rf', model_pipeline_rf), ('xgb', model_pipeline_xgb)], voting='soft') # Use 'soft' for probability voting"
      ],
      "metadata": {
        "id": "HRcS_dWKrHHe"
      },
      "execution_count": 217,
      "outputs": []
    },
    {
      "cell_type": "code",
      "source": [
        "id(ensemble_model_pipeline)"
      ],
      "metadata": {
        "colab": {
          "base_uri": "https://localhost:8080/"
        },
        "id": "rEUlgERYsh1W",
        "outputId": "4ae454c4-76a5-4c58-cda0-c92a632bccd5"
      },
      "execution_count": 218,
      "outputs": [
        {
          "output_type": "execute_result",
          "data": {
            "text/plain": [
              "140700188319952"
            ]
          },
          "metadata": {},
          "execution_count": 218
        }
      ]
    },
    {
      "cell_type": "code",
      "source": [
        "from sklearn.utils import resample\n",
        "from sklearn.model_selection import train_test_split\n",
        "\n",
        "X = data_balanced.drop('target', axis=1)\n",
        "y = data_balanced['target']\n",
        "X_train, X_test, y_train, y_test = train_test_split(X, y, test_size=0.2, random_state=42, stratify=y)\n",
        "\n",
        "X_train_major = X_train[y_train == 0]\n",
        "X_train_minor = X_train[y_train == 1]\n",
        "y_train_major = y_train[y_train == 0]\n",
        "y_train_minor = y_train[y_train == 1]\n",
        "\n",
        "X_train_minor_oversampled, y_train_minor_oversampled = resample(X_train_minor,y_train_minor,replace=True,n_samples=10000,random_state=42)\n",
        "\n",
        "train_undersampled = pd.concat([X_train_major,y_train_major],axis=1).sample(n=10000, random_state=42)\n",
        "X_train_major_undersampled = train_undersampled.drop('target', axis=1)\n",
        "y_train_major_undersampled = train_undersampled['target']\n",
        "\n",
        "\n",
        "X_train_resampled = pd.concat([X_train_minor_oversampled, X_train_major_undersampled])\n",
        "y_train_resampled = pd.concat([y_train_minor_oversampled, y_train_major_undersampled])"
      ],
      "metadata": {
        "id": "2HGIz6Qrn9cc"
      },
      "execution_count": 219,
      "outputs": []
    },
    {
      "cell_type": "code",
      "source": [
        "ensemble_model_pipeline.fit(X_train_resampled, y_train_resampled)\n",
        "y_pred = ensemble_model_pipeline.predict(X_test)\n",
        "\n",
        "accuracy = accuracy_score(y_test, y_pred)\n",
        "conf_matrix = confusion_matrix(y_test, y_pred)\n",
        "class_report = classification_report(y_test, y_pred)\n",
        "\n",
        "print(f\"Accuracy: {accuracy:.4f}\")\n",
        "print(\"\\nClassification Report:\")\n",
        "print(class_report)\n",
        "plt.figure(figsize=(4, 3))\n",
        "sns.heatmap(conf_matrix, annot=True, fmt='d', cmap='Blues', cbar=False)\n",
        "plt.xlabel('Predicted Label')\n",
        "plt.ylabel('True Label')\n",
        "plt.title('Confusion Matrix')\n",
        "plt.show()"
      ],
      "metadata": {
        "colab": {
          "base_uri": "https://localhost:8080/",
          "height": 541
        },
        "id": "IFxwv6aioJ6n",
        "outputId": "c9f276a2-9c3a-40d3-dcbb-2c9272170c1a"
      },
      "execution_count": 220,
      "outputs": [
        {
          "output_type": "stream",
          "name": "stdout",
          "text": [
            "Accuracy: 0.9864\n",
            "\n",
            "Classification Report:\n",
            "              precision    recall  f1-score   support\n",
            "\n",
            "           0       1.00      0.99      0.99     80133\n",
            "           1       0.03      0.47      0.06        79\n",
            "\n",
            "    accuracy                           0.99     80212\n",
            "   macro avg       0.52      0.73      0.53     80212\n",
            "weighted avg       1.00      0.99      0.99     80212\n",
            "\n"
          ]
        },
        {
          "output_type": "display_data",
          "data": {
            "text/plain": [
              "<Figure size 400x300 with 1 Axes>"
            ],
            "image/png": "[encoded data removed]"
          },
          "metadata": {}
        }
      ]
    },
    {
      "cell_type": "code",
      "source": [],
      "metadata": {
        "id": "W9o2tZ2OsFUp"
      },
      "execution_count": 220,
      "outputs": []
    }
  ]
}